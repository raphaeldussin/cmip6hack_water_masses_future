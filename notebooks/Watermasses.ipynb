{
 "cells": [
  {
   "cell_type": "markdown",
   "metadata": {},
   "source": [
    "# Water masses of the future"
   ]
  },
  {
   "cell_type": "code",
   "execution_count": 1,
   "metadata": {},
   "outputs": [],
   "source": [
    "import numpy as np\n",
    "import pandas as pd\n",
    "import xarray as xr\n",
    "import gcsfs\n",
    "\n",
    "import warnings\n",
    "warnings.simplefilter(\"ignore\")"
   ]
  },
  {
   "cell_type": "code",
   "execution_count": 2,
   "metadata": {},
   "outputs": [],
   "source": [
    "fs = gcsfs.GCSFileSystem(token='anon', access='read_only')"
   ]
  },
  {
   "cell_type": "code",
   "execution_count": 12,
   "metadata": {},
   "outputs": [],
   "source": [
    "cat = pd.read_csv('https://storage.googleapis.com/cmip6/cmip6-zarr-consolidated-stores.csv')\n",
    "#cat = pd.read_csv('ftp://ftp.cgd.ucar.edu/archive/aletheia-data/intake-esm-datastore/catalogs/glade-cmip6.csv')\n",
    "#cat.info()"
   ]
  },
  {
   "cell_type": "code",
   "execution_count": 5,
   "metadata": {
    "jupyter": {
     "source_hidden": true
    }
   },
   "outputs": [],
   "source": [
    "# define a simple search on keywords\n",
    "def search_df(df, verbose= False, **search):\n",
    "    \"search by keywords - if list, then match exactly, otherwise match as substring\"\n",
    "    keys = ['activity_id','institution_id','source_id','experiment_id','member_id', 'table_id', 'variable_id', 'grid_label']\n",
    "    d = df\n",
    "    for skey in search.keys():\n",
    "        \n",
    "        if isinstance(search[skey], str):  # match a string as a substring\n",
    "            d = d[d[skey].str.contains(search[skey])]\n",
    "        else:\n",
    "            dk = []\n",
    "            for key in search[skey]:       # match a list of strings exactly\n",
    "                dk += [d[d[skey]==key]]\n",
    "            d = pd.concat(dk)\n",
    "            keys.remove(skey)\n",
    "    if verbose:\n",
    "        for key in keys:\n",
    "            print(key,' = ',list(d[key].unique()))      \n",
    "    return d"
   ]
  },
  {
   "cell_type": "markdown",
   "metadata": {},
   "source": [
    "## Load CMIP6 datasets"
   ]
  },
  {
   "cell_type": "code",
   "execution_count": 13,
   "metadata": {},
   "outputs": [
    {
     "name": "stdout",
     "output_type": "stream",
     "text": [
      "activity_id  =  ['CMIP']\n",
      "institution_id  =  ['NASA-GISS', 'NCAR', 'NOAA-GFDL']\n",
      "source_id  =  ['GISS-E2-1-H', 'CESM2-WACCM', 'CESM2', 'GFDL-CM4', 'GFDL-ESM4']\n",
      "member_id  =  ['r1i1p1f1']\n",
      "table_id  =  ['Omon']\n"
     ]
    }
   ],
   "source": [
    "historical = search_df(cat, experiment_id=['piControl'], table_id='Omon', variable_id=['thetao', 'so'], \n",
    "                       grid_label=['gr'], verbose=True)"
   ]
  },
  {
   "cell_type": "code",
   "execution_count": 14,
   "metadata": {},
   "outputs": [
    {
     "name": "stdout",
     "output_type": "stream",
     "text": [
      "activity_id  =  ['ScenarioMIP']\n",
      "institution_id  =  ['NCAR', 'NOAA-GFDL']\n",
      "source_id  =  ['CESM2-WACCM', 'CESM2', 'GFDL-CM4']\n",
      "member_id  =  ['r1i1p1f1', 'r2i1p1f1']\n",
      "table_id  =  ['Omon']\n"
     ]
    }
   ],
   "source": [
    "ssp585 = search_df(cat, experiment_id=['ssp585'], table_id='Omon', variable_id=['thetao', 'so'], \n",
    "                   grid_label=['gr'], verbose=True)"
   ]
  },
  {
   "cell_type": "code",
   "execution_count": 17,
   "metadata": {},
   "outputs": [
    {
     "name": "stdout",
     "output_type": "stream",
     "text": [
      "CMIP.NASA-GISS.GISS-E2-1-H.piControl.r1i1p1f1.Omon.thetao.gr\n",
      "{'bnds': 2, 'lat': 180, 'lev': 33, 'lon': 360, 'time': 4812} \n",
      "\n",
      "CMIP.NCAR.CESM2-WACCM.piControl.r1i1p1f1.Omon.thetao.gr\n",
      "{'d2': 2, 'lat': 180, 'lev': 33, 'lon': 360, 'time': 5988} \n",
      "\n",
      "CMIP.NCAR.CESM2.piControl.r1i1p1f1.Omon.thetao.gr\n",
      "{'d2': 2, 'lat': 180, 'lev': 33, 'lon': 360, 'time': 14400} \n",
      "\n",
      "CMIP.NOAA-GFDL.GFDL-CM4.piControl.r1i1p1f1.Omon.thetao.gr\n",
      "{'bnds': 2, 'lat': 180, 'lev': 35, 'lon': 360, 'time': 6000} \n",
      "\n",
      "CMIP.NOAA-GFDL.GFDL-ESM4.piControl.r1i1p1f1.Omon.thetao.gr\n",
      "{'bnds': 2, 'lat': 180, 'lev': 35, 'lon': 360, 'time': 6000} \n",
      "\n",
      "CMIP.NASA-GISS.GISS-E2-1-H.piControl.r1i1p1f1.Omon.so.gr\n",
      "{'bnds': 2, 'lat': 180, 'lev': 33, 'lon': 360, 'time': 4812} \n",
      "\n",
      "CMIP.NCAR.CESM2-WACCM.piControl.r1i1p1f1.Omon.so.gr\n",
      "{'d2': 2, 'lat': 180, 'lev': 33, 'lon': 360, 'time': 5988} \n",
      "\n",
      "CMIP.NCAR.CESM2.piControl.r1i1p1f1.Omon.so.gr\n",
      "{'d2': 2, 'lat': 180, 'lev': 33, 'lon': 360, 'time': 14400} \n",
      "\n",
      "CMIP.NOAA-GFDL.GFDL-CM4.piControl.r1i1p1f1.Omon.so.gr\n",
      "{'bnds': 2, 'lat': 180, 'lev': 35, 'lon': 360, 'time': 6000} \n",
      "\n",
      "CMIP.NOAA-GFDL.GFDL-ESM4.piControl.r1i1p1f1.Omon.so.gr\n",
      "{'bnds': 2, 'lat': 180, 'lev': 35, 'lon': 360, 'time': 6000} \n",
      "\n"
     ]
    }
   ],
   "source": [
    "zstores_hist = historical.zstore.unique()\n",
    "\n",
    "dset_dict_hist = {}\n",
    "for zstore in zstores_hist:\n",
    "    name = zstore.split('gs://cmip6/')[1].replace('/','.')[:-1]\n",
    "    print(name)\n",
    "\n",
    "    ds = xr.open_zarr(fs.get_mapper(zstore))       # DO NOT USE \"decode_times = False\"\n",
    "    print(dict(ds.dims),'\\n')\n",
    "    \n",
    "    dset_dict_hist[name] = ds"
   ]
  },
  {
   "cell_type": "code",
   "execution_count": null,
   "metadata": {},
   "outputs": [],
   "source": []
  }
 ],
 "metadata": {
  "kernelspec": {
   "display_name": "Python 3",
   "language": "python",
   "name": "python3"
  },
  "language_info": {
   "codemirror_mode": {
    "name": "ipython",
    "version": 3
   },
   "file_extension": ".py",
   "mimetype": "text/x-python",
   "name": "python",
   "nbconvert_exporter": "python",
   "pygments_lexer": "ipython3",
   "version": "3.7.3"
  }
 },
 "nbformat": 4,
 "nbformat_minor": 4
}
