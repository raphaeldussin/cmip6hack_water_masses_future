{
 "cells": [
  {
   "cell_type": "markdown",
   "metadata": {},
   "source": [
    "# Water masses of the future: volume"
   ]
  },
  {
   "cell_type": "code",
   "execution_count": 1,
   "metadata": {},
   "outputs": [],
   "source": [
    "%matplotlib inline"
   ]
  },
  {
   "cell_type": "code",
   "execution_count": 2,
   "metadata": {},
   "outputs": [],
   "source": [
    "import numpy as np\n",
    "import pandas as pd\n",
    "import xarray as xr\n",
    "import gcsfs\n",
    "\n",
    "import warnings\n",
    "warnings.simplefilter(\"ignore\")"
   ]
  },
  {
   "cell_type": "code",
   "execution_count": 3,
   "metadata": {},
   "outputs": [],
   "source": [
    "fs = gcsfs.GCSFileSystem(token='anon', access='read_only')"
   ]
  },
  {
   "cell_type": "code",
   "execution_count": 4,
   "metadata": {},
   "outputs": [],
   "source": [
    "cat = pd.read_csv('https://storage.googleapis.com/cmip6/cmip6-zarr-consolidated-stores.csv')\n",
    "#cat = pd.read_csv('ftp://ftp.cgd.ucar.edu/archive/aletheia-data/intake-esm-datastore/catalogs/glade-cmip6.csv')\n",
    "#cat.info()"
   ]
  },
  {
   "cell_type": "code",
   "execution_count": 5,
   "metadata": {},
   "outputs": [],
   "source": [
    "# define a simple search on keywords\n",
    "def search_df(df, verbose= False, **search):\n",
    "    \"search by keywords - if list, then match exactly, otherwise match as substring\"\n",
    "    keys = ['activity_id','institution_id','source_id','experiment_id','member_id', 'table_id', 'variable_id', 'grid_label']\n",
    "    d = df\n",
    "    for skey in search.keys():\n",
    "        \n",
    "        if isinstance(search[skey], str):  # match a string as a substring\n",
    "            d = d[d[skey].str.contains(search[skey])]\n",
    "        else:\n",
    "            dk = []\n",
    "            for key in search[skey]:       # match a list of strings exactly\n",
    "                dk += [d[d[skey]==key]]\n",
    "            d = pd.concat(dk)\n",
    "            keys.remove(skey)\n",
    "    if verbose:\n",
    "        for key in keys:\n",
    "            print(key,' = ',list(d[key].unique()))      \n",
    "    return d"
   ]
  },
  {
   "cell_type": "markdown",
   "metadata": {},
   "source": [
    "## Load CMIP6 datasets"
   ]
  },
  {
   "cell_type": "code",
   "execution_count": 6,
   "metadata": {},
   "outputs": [
    {
     "name": "stdout",
     "output_type": "stream",
     "text": [
      "activity_id  =  ['CMIP']\n",
      "institution_id  =  ['NCAR', 'NOAA-GFDL']\n",
      "member_id  =  ['r1i1p1f1']\n",
      "table_id  =  ['Omon']\n"
     ]
    }
   ],
   "source": [
    "picontrol = search_df(cat, experiment_id=['piControl'], \n",
    "                      source_id=['CESM2', 'GFDL-CM4'],\n",
    "                      table_id='Omon', \n",
    "                      variable_id=['thetao', 'so'], \n",
    "                      grid_label=['gr'], verbose=True)"
   ]
  },
  {
   "cell_type": "code",
   "execution_count": 7,
   "metadata": {},
   "outputs": [
    {
     "name": "stdout",
     "output_type": "stream",
     "text": [
      "activity_id  =  ['CMIP']\n",
      "institution_id  =  ['NCAR', 'NOAA-GFDL']\n",
      "member_id  =  ['r10i1p1f1', 'r11i1p1f1', 'r1i1p1f1', 'r2i1p1f1', 'r3i1p1f1', 'r4i1p1f1', 'r5i1p1f1', 'r6i1p1f1', 'r7i1p1f1', 'r8i1p1f1', 'r9i1p1f1']\n",
      "table_id  =  ['Omon']\n"
     ]
    }
   ],
   "source": [
    "historical = search_df(cat, experiment_id=['historical'], \n",
    "                       source_id=['CESM2', 'GFDL-CM4'],\n",
    "                       table_id='Omon', \n",
    "                       variable_id=['thetao', 'so'], \n",
    "                       grid_label=['gr'], verbose=True)"
   ]
  },
  {
   "cell_type": "code",
   "execution_count": 8,
   "metadata": {},
   "outputs": [
    {
     "name": "stdout",
     "output_type": "stream",
     "text": [
      "activity_id  =  ['ScenarioMIP']\n",
      "institution_id  =  ['NCAR', 'NOAA-GFDL']\n",
      "source_id  =  ['CESM2-WACCM', 'CESM2', 'GFDL-CM4']\n",
      "member_id  =  ['r1i1p1f1', 'r2i1p1f1']\n",
      "table_id  =  ['Omon']\n"
     ]
    }
   ],
   "source": [
    "ssp585 = search_df(cat, experiment_id=['ssp585'], table_id='Omon',\n",
    "                   variable_id=['thetao', 'so'], \n",
    "                   grid_label=['gr'], verbose=True)"
   ]
  },
  {
   "cell_type": "code",
   "execution_count": 10,
   "metadata": {
    "jupyter": {
     "source_hidden": true
    }
   },
   "outputs": [],
   "source": [
    "#ssp585 = search_df(cat, table_id='Omon', variable_id=['thetao', 'so'], \n",
    "#                   grid_label=['gn'], verbose=True)"
   ]
  },
  {
   "cell_type": "code",
   "execution_count": 11,
   "metadata": {
    "jupyter": {
     "source_hidden": true
    }
   },
   "outputs": [],
   "source": [
    "#zstores_hist = historical.zstore.unique()\n",
    "#\n",
    "#dset_dict_hist = {}\n",
    "#for zstore in zstores_hist:\n",
    "#    name = zstore.split('gs://cmip6/')[1].replace('/','.')[:-1]\n",
    "#    print(name)\n",
    "#\n",
    "#    ds = xr.open_zarr(fs.get_mapper(zstore))       # DO NOT USE \"decode_times = False\"\n",
    "#    print(dict(ds.dims),'\\n')\n",
    "#    \n",
    "#    dset_dict_hist[name] = ds"
   ]
  },
  {
   "cell_type": "code",
   "execution_count": 9,
   "metadata": {},
   "outputs": [],
   "source": [
    "def create_dsdict_from_cat(df):\n",
    "    \"\"\" thanks naomi\"\"\"\n",
    "    zstores = df.zstore.unique()\n",
    "\n",
    "    dset_dict = {}\n",
    "    for zstore in zstores:\n",
    "        name = zstore.split('gs://cmip6/')[1].replace('/','.')[:-1]\n",
    "        print(name)\n",
    "\n",
    "        ds = xr.open_zarr(fs.get_mapper(zstore))       # DO NOT USE \"decode_times = False\"\n",
    "        print(dict(ds.dims),'\\n')\n",
    "    \n",
    "        dset_dict[name] = ds\n",
    "    return dset_dict"
   ]
  },
  {
   "cell_type": "code",
   "execution_count": 10,
   "metadata": {},
   "outputs": [
    {
     "name": "stdout",
     "output_type": "stream",
     "text": [
      "CMIP.NCAR.CESM2.piControl.r1i1p1f1.Omon.thetao.gr\n",
      "{'d2': 2, 'lat': 180, 'lev': 33, 'lon': 360, 'time': 14400} \n",
      "\n",
      "CMIP.NOAA-GFDL.GFDL-CM4.piControl.r1i1p1f1.Omon.thetao.gr\n",
      "{'bnds': 2, 'lat': 180, 'lev': 35, 'lon': 360, 'time': 6000} \n",
      "\n",
      "CMIP.NCAR.CESM2.piControl.r1i1p1f1.Omon.so.gr\n",
      "{'d2': 2, 'lat': 180, 'lev': 33, 'lon': 360, 'time': 14400} \n",
      "\n",
      "CMIP.NOAA-GFDL.GFDL-CM4.piControl.r1i1p1f1.Omon.so.gr\n",
      "{'bnds': 2, 'lat': 180, 'lev': 35, 'lon': 360, 'time': 6000} \n",
      "\n"
     ]
    }
   ],
   "source": [
    "dict_piC = create_dsdict_from_cat(picontrol)"
   ]
  },
  {
   "cell_type": "code",
   "execution_count": 62,
   "metadata": {},
   "outputs": [
    {
     "name": "stdout",
     "output_type": "stream",
     "text": [
      "ScenarioMIP.NCAR.CESM2-WACCM.ssp585.r1i1p1f1.Omon.thetao.gr\n",
      "{'d2': 2, 'lat': 180, 'lev': 33, 'lon': 360, 'time': 1032} \n",
      "\n",
      "ScenarioMIP.NCAR.CESM2.ssp585.r2i1p1f1.Omon.thetao.gr\n",
      "{'d2': 2, 'lat': 180, 'lev': 33, 'lon': 360, 'time': 1032} \n",
      "\n",
      "ScenarioMIP.NOAA-GFDL.GFDL-CM4.ssp585.r1i1p1f1.Omon.thetao.gr\n",
      "{'bnds': 2, 'lat': 180, 'lev': 35, 'lon': 360, 'time': 1032} \n",
      "\n",
      "ScenarioMIP.NCAR.CESM2-WACCM.ssp585.r1i1p1f1.Omon.so.gr\n",
      "{'d2': 2, 'lat': 180, 'lev': 33, 'lon': 360, 'time': 1032} \n",
      "\n",
      "ScenarioMIP.NCAR.CESM2.ssp585.r2i1p1f1.Omon.so.gr\n",
      "{'d2': 2, 'lat': 180, 'lev': 33, 'lon': 360, 'time': 1032} \n",
      "\n",
      "ScenarioMIP.NOAA-GFDL.GFDL-CM4.ssp585.r1i1p1f1.Omon.so.gr\n",
      "{'bnds': 2, 'lat': 180, 'lev': 35, 'lon': 360, 'time': 1032} \n",
      "\n"
     ]
    }
   ],
   "source": [
    "dict_ssp585 = create_dsdict_from_cat(ssp585)"
   ]
  },
  {
   "cell_type": "markdown",
   "metadata": {},
   "source": [
    "## First test with xhistogram"
   ]
  },
  {
   "cell_type": "code",
   "execution_count": 11,
   "metadata": {},
   "outputs": [],
   "source": [
    "from xhistogram.xarray import histogram"
   ]
  },
  {
   "cell_type": "code",
   "execution_count": 12,
   "metadata": {},
   "outputs": [],
   "source": [
    "CM4_thetao_piC = dict_piC['CMIP.NOAA-GFDL.GFDL-CM4.piControl.r1i1p1f1.Omon.thetao.gr']\n",
    "#CM4_thetao_piC['lev']"
   ]
  },
  {
   "cell_type": "code",
   "execution_count": 13,
   "metadata": {},
   "outputs": [],
   "source": [
    "CM4_so_piC = dict_piC['CMIP.NOAA-GFDL.GFDL-CM4.piControl.r1i1p1f1.Omon.so.gr']\n",
    "#CM4_so_piC['so']"
   ]
  },
  {
   "cell_type": "code",
   "execution_count": 14,
   "metadata": {},
   "outputs": [],
   "source": [
    "CESM2_so_piC = dict_piC['CMIP.NCAR.CESM2.piControl.r1i1p1f1.Omon.so.gr']"
   ]
  },
  {
   "cell_type": "code",
   "execution_count": 15,
   "metadata": {},
   "outputs": [],
   "source": [
    "CESM2_thetao_piC = dict_piC['CMIP.NCAR.CESM2.piControl.r1i1p1f1.Omon.thetao.gr']"
   ]
  },
  {
   "cell_type": "code",
   "execution_count": 35,
   "metadata": {},
   "outputs": [
    {
     "data": {
      "text/plain": [
       "<xarray.Dataset>\n",
       "Dimensions:    (d2: 2, lat: 180, lev: 33, lon: 360, time: 14400)\n",
       "Coordinates:\n",
       "  * lat        (lat) float64 -89.5 -88.5 -87.5 -86.5 ... 86.5 87.5 88.5 89.5\n",
       "    lat_bnds   (lat, d2) float64 dask.array<chunksize=(180, 2), meta=np.ndarray>\n",
       "  * lev        (lev) float64 0.0 10.0 20.0 30.0 ... 4e+03 4.5e+03 5e+03 5.5e+03\n",
       "    lev_bnds   (lev, d2) float64 dask.array<chunksize=(33, 2), meta=np.ndarray>\n",
       "  * lon        (lon) float64 0.5 1.5 2.5 3.5 4.5 ... 356.5 357.5 358.5 359.5\n",
       "    lon_bnds   (lon, d2) float64 dask.array<chunksize=(360, 2), meta=np.ndarray>\n",
       "  * time       (time) object 0001-01-15 12:59:59 ... 1200-12-15 12:00:00\n",
       "    time_bnds  (time, d2) object dask.array<chunksize=(14400, 2), meta=np.ndarray>\n",
       "Dimensions without coordinates: d2\n",
       "Data variables:\n",
       "    thetao     (time, lev, lat, lon) float32 dask.array<chunksize=(11, 33, 180, 360), meta=np.ndarray>\n",
       "Attributes:\n",
       "    Conventions:            CF-1.7 CMIP-6.2\n",
       "    activity_id:            CMIP\n",
       "    branch_method:          standard\n",
       "    branch_time_in_child:   0.0\n",
       "    branch_time_in_parent:  48545.0\n",
       "    case_id:                3\n",
       "    cesm_casename:          b.e21.B1850.f09_g17.CMIP6-piControl.001\n",
       "    contact:                cesm_cmip6@ucar.edu\n",
       "    creation_date:          2019-01-20T21:46:07Z\n",
       "    data_specs_version:     01.00.29\n",
       "    experiment:             pre-industrial control\n",
       "    experiment_id:          piControl\n",
       "    external_variables:     areacello volcello\n",
       "    forcing_index:          1\n",
       "    frequency:              mon\n",
       "    further_info_url:       https://furtherinfo.es-doc.org/CMIP6.NCAR.CESM2.p...\n",
       "    grid:                   ocean data regridded from native gx1v7 displaced ...\n",
       "    grid_label:             gr\n",
       "    initialization_index:   1\n",
       "    institution:            National Center for Atmospheric Research, Climate...\n",
       "    institution_id:         NCAR\n",
       "    license:                CMIP6 model data produced by <The National Center...\n",
       "    mip_era:                CMIP6\n",
       "    model_doi_url:          https://doi.org/10.5065/D67H1H0V\n",
       "    nominal_resolution:     1x1 degree\n",
       "    parent_activity_id:     CMIP\n",
       "    parent_experiment_id:   piControl-spinup\n",
       "    parent_mip_era:         CMIP6\n",
       "    parent_source_id:       CESM2\n",
       "    parent_time_units:      days since 0001-01-01 00:00:00\n",
       "    parent_variant_label:   r1i1p1f1\n",
       "    physics_index:          1\n",
       "    product:                model-output\n",
       "    realization_index:      1\n",
       "    realm:                  ocean\n",
       "    source:                 CESM2 (2017): atmosphere: CAM6 (0.9x1.25 finite v...\n",
       "    source_id:              CESM2\n",
       "    source_type:            AOGCM BGC AER\n",
       "    sub_experiment:         none\n",
       "    sub_experiment_id:      none\n",
       "    table_id:               Omon\n",
       "    tracking_id:            hdl:21.14100/608987f7-4240-4384-b701-249592c57290...\n",
       "    variable_id:            thetao\n",
       "    variant_info:           CMIP6 CESM2 piControl experiment with CAM6, inter...\n",
       "    variant_label:          r1i1p1f1"
      ]
     },
     "execution_count": 35,
     "metadata": {},
     "output_type": "execute_result"
    }
   ],
   "source": [
    "CESM2_thetao_piC"
   ]
  },
  {
   "cell_type": "markdown",
   "metadata": {},
   "source": [
    "### Set up bins and volume of cells for histogram"
   ]
  },
  {
   "cell_type": "code",
   "execution_count": 16,
   "metadata": {},
   "outputs": [],
   "source": [
    "sbins = np.arange(31, 38, 0.025)\n",
    "tbins = np.arange(-2, 32, 0.1)"
   ]
  },
  {
   "cell_type": "code",
   "execution_count": 17,
   "metadata": {},
   "outputs": [],
   "source": [
    "# Create a dz variable, all datasets are on common grid so this should work with everything\n",
    "dz = np.diff(CESM2_thetao_piC['lev'])\n",
    "dz =np.insert(dz, 0, dz[0])\n",
    "dz = xr.DataArray(dz, coords= {'lev': CESM2_thetao_piC['lev']}, dims='lev')\n",
    "\n",
    "# weight by volume of grid cell (resolution = 5degree, 1degree=110km)\n",
    "dVol_cesm2 = dz * (110e3) * (110e3*np.cos(CESM2_thetao_piC['lat']*np.pi/180))"
   ]
  },
  {
   "cell_type": "code",
   "execution_count": 18,
   "metadata": {},
   "outputs": [],
   "source": [
    "# not quite\n",
    "dz = np.diff(CM4_thetao_piC['lev'])\n",
    "dz =np.insert(dz, 0, dz[0])\n",
    "dz = xr.DataArray(dz, coords= {'lev': CM4_thetao_piC['lev']}, dims='lev')\n",
    "\n",
    "# weight by volume of grid cell (resolution = 5degree, 1degree=110km)\n",
    "dVol_cm4 = dz * (110e3) * (110e3*np.cos(CM4_thetao_piC['lat']*np.pi/180))"
   ]
  },
  {
   "cell_type": "code",
   "execution_count": 19,
   "metadata": {},
   "outputs": [
    {
     "ename": "AssertionError",
     "evalue": "",
     "output_type": "error",
     "traceback": [
      "\u001b[0;31m---------------------------------------------------------------------------\u001b[0m",
      "\u001b[0;31mAssertionError\u001b[0m                            Traceback (most recent call last)",
      "\u001b[0;32m<ipython-input-19-cabf9cc684df>\u001b[0m in \u001b[0;36m<module>\u001b[0;34m\u001b[0m\n\u001b[0;32m----> 1\u001b[0;31m \u001b[0;32massert\u001b[0m \u001b[0;34m(\u001b[0m\u001b[0mdVol_cesm2\u001b[0m \u001b[0;34m==\u001b[0m \u001b[0mdVol_cm4\u001b[0m\u001b[0;34m)\u001b[0m\u001b[0;34m.\u001b[0m\u001b[0mall\u001b[0m\u001b[0;34m(\u001b[0m\u001b[0;34m)\u001b[0m\u001b[0;34m\u001b[0m\u001b[0;34m\u001b[0m\u001b[0m\n\u001b[0m",
      "\u001b[0;31mAssertionError\u001b[0m: "
     ]
    }
   ],
   "source": [
    "assert (dVol_cesm2 == dVol_cm4).all()"
   ]
  },
  {
   "cell_type": "markdown",
   "metadata": {},
   "source": [
    "### Let's get this party started"
   ]
  },
  {
   "cell_type": "code",
   "execution_count": 20,
   "metadata": {},
   "outputs": [
    {
     "data": {
      "application/vnd.jupyter.widget-view+json": {
       "model_id": "57f083997f794a949d032e33b7bd2a59",
       "version_major": 2,
       "version_minor": 0
      },
      "text/plain": [
       "VBox(children=(HTML(value='<h2>KubeCluster</h2>'), HBox(children=(HTML(value='\\n<div>\\n  <style scoped>\\n    .…"
      ]
     },
     "metadata": {},
     "output_type": "display_data"
    }
   ],
   "source": [
    "from dask_kubernetes import KubeCluster\n",
    "from dask.distributed import Client\n",
    "cluster = KubeCluster()\n",
    "cluster.adapt(minimum=1, maximum=10)\n",
    "client = Client(cluster)\n",
    "cluster"
   ]
  },
  {
   "cell_type": "code",
   "execution_count": 21,
   "metadata": {},
   "outputs": [],
   "source": [
    "#cluster.close()"
   ]
  },
  {
   "cell_type": "markdown",
   "metadata": {},
   "source": [
    "### CESM2 - piControl"
   ]
  },
  {
   "cell_type": "code",
   "execution_count": 53,
   "metadata": {},
   "outputs": [],
   "source": [
    "hTS_CESM2 = histogram(CESM2_so_piC['so'],\n",
    "                      CESM2_thetao_piC['thetao'],\n",
    "                      bins=[sbins, tbins],\n",
    "                      dim=('lon', 'lat', 'lev'),\n",
    "                      weights=dVol_cesm2)"
   ]
  },
  {
   "cell_type": "code",
   "execution_count": 54,
   "metadata": {},
   "outputs": [
    {
     "data": {
      "text/plain": [
       "<xarray.DataArray 'histogram_so_thetao' (time: 14400, so_bin: 279, thetao_bin: 339)>\n",
       "dask.array<getitem, shape=(14400, 279, 339), dtype=float64, chunksize=(11, 279, 339), chunktype=numpy.ndarray>\n",
       "Coordinates:\n",
       "  * time        (time) object 0001-01-15 12:59:59 ... 1200-12-15 12:00:00\n",
       "  * so_bin      (so_bin) float64 31.01 31.04 31.06 31.09 ... 37.91 37.94 37.96\n",
       "  * thetao_bin  (thetao_bin) float64 -1.95 -1.85 -1.75 ... 31.65 31.75 31.85"
      ]
     },
     "execution_count": 54,
     "metadata": {},
     "output_type": "execute_result"
    }
   ],
   "source": [
    "hTS_CESM2"
   ]
  },
  {
   "cell_type": "code",
   "execution_count": 56,
   "metadata": {},
   "outputs": [],
   "source": [
    "vol_nadw_CESM2 = hTS_CESM2.sel(so_bin=slice(34.8, 35.), \n",
    "                               thetao_bin=slice(1.5,4)).sum(dim=['so_bin', 'thetao_bin'])"
   ]
  },
  {
   "cell_type": "code",
   "execution_count": 57,
   "metadata": {},
   "outputs": [
    {
     "name": "stderr",
     "output_type": "stream",
     "text": [
      "distributed.comm.tcp - WARNING - Closing dangling stream in <TCP  local=tcp://10.32.5.12:41840 remote=tcp://10.32.5.12:38325>\n",
      "distributed.comm.tcp - WARNING - Closing dangling stream in <TCP  local=tcp://10.32.5.12:41842 remote=tcp://10.32.5.12:38325>\n"
     ]
    },
    {
     "data": {
      "text/plain": [
       "<xarray.DataArray 'histogram_so_thetao' (time: 14400)>\n",
       "array([1.19804457e+17, 1.19808830e+17, 1.19838399e+17, ...,\n",
       "       2.08909331e+17, 2.08857520e+17, 2.08815188e+17])\n",
       "Coordinates:\n",
       "  * time     (time) object 0001-01-15 12:59:59 ... 1200-12-15 12:00:00"
      ]
     },
     "execution_count": 57,
     "metadata": {},
     "output_type": "execute_result"
    }
   ],
   "source": [
    "vol_nadw_CESM2.load()"
   ]
  },
  {
   "cell_type": "code",
   "execution_count": 58,
   "metadata": {},
   "outputs": [
    {
     "data": {
      "text/plain": [
       "[<matplotlib.lines.Line2D at 0x7f8c25d4fd30>]"
      ]
     },
     "execution_count": 58,
     "metadata": {},
     "output_type": "execute_result"
    },
    {
     "data": {
      "image/png": "[encoded data removed]",
      "text/plain": [
       "<Figure size 432x288 with 1 Axes>"
      ]
     },
     "metadata": {
      "needs_background": "light"
     },
     "output_type": "display_data"
    }
   ],
   "source": [
    "vol_nadw_CESM2.plot()"
   ]
  },
  {
   "cell_type": "code",
   "execution_count": 37,
   "metadata": {},
   "outputs": [],
   "source": [
    "basincodes = xr.open_dataset('../data/basin_codes.r360x180.nc')\n",
    "\n",
    "basincodes = basincodes.rename({'Longitude': 'lon', 'Latitude': 'lat'})\n",
    "basincodes['lon'] = CESM2_so_piC['lon']\n",
    "basincodes['lat'] = CESM2_so_piC['lat']"
   ]
  },
  {
   "cell_type": "code",
   "execution_count": 34,
   "metadata": {},
   "outputs": [
    {
     "data": {
      "text/plain": [
       "<matplotlib.collections.QuadMesh at 0x7fd5a21fc048>"
      ]
     },
     "execution_count": 34,
     "metadata": {},
     "output_type": "execute_result"
    },
    {
     "data": {
      "image/png": "[encoded data removed]",
      "text/plain": [
       "<Figure size 432x288 with 2 Axes>"
      ]
     },
     "metadata": {
      "needs_background": "light"
     },
     "output_type": "display_data"
    }
   ],
   "source": [
    "basincodes['basin'].plot(vmin=0, vmax=5)"
   ]
  },
  {
   "cell_type": "code",
   "execution_count": 32,
   "metadata": {},
   "outputs": [
    {
     "data": {
      "text/plain": [
       "<matplotlib.collections.QuadMesh at 0x7fd5a22d9198>"
      ]
     },
     "execution_count": 32,
     "metadata": {},
     "output_type": "execute_result"
    },
    {
     "data": {
      "image/png": "[encoded data removed]",
      "text/plain": [
       "<Figure size 432x288 with 2 Axes>"
      ]
     },
     "metadata": {
      "needs_background": "light"
     },
     "output_type": "display_data"
    }
   ],
   "source": [
    "basincodes['basin'].where(basincodes['basin'] == 2).plot()"
   ]
  },
  {
   "cell_type": "code",
   "execution_count": 38,
   "metadata": {},
   "outputs": [],
   "source": [
    "hTS_CESM2 = histogram(CESM2_so_piC['so'].where(basincodes['basin'] == 2),\n",
    "                      CESM2_thetao_piC['thetao'].where(basincodes['basin'] == 2),\n",
    "                      bins=[sbins, tbins],\n",
    "                      dim=('lon', 'lat', 'lev'),\n",
    "                      weights=dVol_cesm2)"
   ]
  },
  {
   "cell_type": "code",
   "execution_count": 39,
   "metadata": {},
   "outputs": [],
   "source": [
    "atl_vol_nadw_CESM2 = hTS_CESM2.sel(so_bin=slice(34.8, 35.), \n",
    "                                   thetao_bin=slice(1.5,4)).sum(dim=['so_bin', 'thetao_bin'])"
   ]
  },
  {
   "cell_type": "code",
   "execution_count": 40,
   "metadata": {},
   "outputs": [
    {
     "data": {
      "text/plain": [
       "<xarray.DataArray 'histogram_so_thetao' (time: 14400)>\n",
       "array([3.21612203e+16, 3.21588890e+16, 3.21407182e+16, ...,\n",
       "       4.64435566e+16, 4.64352302e+16, 4.63825674e+16])\n",
       "Coordinates:\n",
       "  * time     (time) object 0001-01-15 12:59:59 ... 1200-12-15 12:00:00"
      ]
     },
     "execution_count": 40,
     "metadata": {},
     "output_type": "execute_result"
    }
   ],
   "source": [
    "atl_vol_nadw_CESM2.load()"
   ]
  },
  {
   "cell_type": "code",
   "execution_count": 41,
   "metadata": {},
   "outputs": [
    {
     "data": {
      "text/plain": [
       "[<matplotlib.lines.Line2D at 0x7fd59ece6128>]"
      ]
     },
     "execution_count": 41,
     "metadata": {},
     "output_type": "execute_result"
    },
    {
     "data": {
      "image/png": "[encoded data removed]",
      "text/plain": [
       "<Figure size 432x288 with 1 Axes>"
      ]
     },
     "metadata": {
      "needs_background": "light"
     },
     "output_type": "display_data"
    }
   ],
   "source": [
    "atl_vol_nadw_CESM2.plot()"
   ]
  },
  {
   "cell_type": "code",
   "execution_count": null,
   "metadata": {},
   "outputs": [],
   "source": []
  },
  {
   "cell_type": "code",
   "execution_count": null,
   "metadata": {},
   "outputs": [],
   "source": []
  },
  {
   "cell_type": "code",
   "execution_count": 22,
   "metadata": {},
   "outputs": [],
   "source": [
    "hTS_CM4 = histogram(CM4_so_piC['so'],\n",
    "                    CM4_thetao_piC['thetao'],\n",
    "                    bins=[sbins, tbins],\n",
    "                    dim=('lon', 'lat', 'lev'),\n",
    "                    weights=dVol_cm4)"
   ]
  },
  {
   "cell_type": "code",
   "execution_count": 56,
   "metadata": {},
   "outputs": [],
   "source": [
    "#assert (CM4_so_piC['so'].lev.values == CM4_thetao_piC['thetao'].lev.values).all()"
   ]
  },
  {
   "cell_type": "code",
   "execution_count": 23,
   "metadata": {},
   "outputs": [],
   "source": [
    "#CM4_so_pic = CM4_so_piC.unify_chunks()\n",
    "#CM4_so_pic = CM4_so_piC.chunks({'time': 25})"
   ]
  },
  {
   "cell_type": "code",
   "execution_count": 24,
   "metadata": {},
   "outputs": [],
   "source": [
    "#hTS_CM4 = histogram(CM4_so_piC['so'],\n",
    "#                    CM4_thetao_piC['thetao'],\n",
    "#                    bins=[sbins, tbins],\n",
    "#                    dim=('lon', 'lat', 'lev'),\n",
    "#                    weights=dVol_cm4)"
   ]
  },
  {
   "cell_type": "code",
   "execution_count": 25,
   "metadata": {},
   "outputs": [],
   "source": [
    "vol_nadw_CM4 = hTS_CM4.sel(so_bin=slice(34.8, 35.), \n",
    "                           thetao_bin=slice(1.5,4)).sum(dim=['so_bin', 'thetao_bin'])"
   ]
  },
  {
   "cell_type": "code",
   "execution_count": 26,
   "metadata": {},
   "outputs": [
    {
     "data": {
      "text/plain": [
       "<xarray.DataArray 'histogram_so_thetao' (time: 6000)>\n",
       "array([1.19443985e+17, 1.19323221e+17, 1.19432044e+17, ...,\n",
       "       1.14538570e+17, 1.14615831e+17, 1.14692345e+17])\n",
       "Coordinates:\n",
       "  * time     (time) object 0151-01-16 12:00:00 ... 0650-12-16 12:00:00"
      ]
     },
     "execution_count": 26,
     "metadata": {},
     "output_type": "execute_result"
    }
   ],
   "source": [
    "vol_nadw_CM4.load()"
   ]
  },
  {
   "cell_type": "code",
   "execution_count": 27,
   "metadata": {},
   "outputs": [
    {
     "data": {
      "text/plain": [
       "[<matplotlib.lines.Line2D at 0x7fd5aa8cb0f0>]"
      ]
     },
     "execution_count": 27,
     "metadata": {},
     "output_type": "execute_result"
    },
    {
     "data": {
      "image/png": "[encoded data removed]",
      "text/plain": [
       "<Figure size 432x288 with 1 Axes>"
      ]
     },
     "metadata": {
      "needs_background": "light"
     },
     "output_type": "display_data"
    }
   ],
   "source": [
    "vol_nadw_CM4.plot()"
   ]
  },
  {
   "cell_type": "code",
   "execution_count": 42,
   "metadata": {},
   "outputs": [],
   "source": [
    "basincodes = xr.open_dataset('../data/basin_codes.r360x180.nc')\n",
    "\n",
    "basincodes = basincodes.rename({'Longitude': 'lon', 'Latitude': 'lat'})\n",
    "basincodes['lon'] = CM4_so_piC['lon']\n",
    "basincodes['lat'] = CM4_so_piC['lat']"
   ]
  },
  {
   "cell_type": "code",
   "execution_count": 43,
   "metadata": {},
   "outputs": [],
   "source": [
    "hTS_CM4 = histogram(CM4_so_piC['so'].where(basincodes['basin'] == 2),\n",
    "                    CM4_thetao_piC['thetao'].where(basincodes['basin'] ==2),\n",
    "                    bins=[sbins, tbins],\n",
    "                    dim=('lon', 'lat', 'lev'),\n",
    "                    weights=dVol_cm4)"
   ]
  },
  {
   "cell_type": "code",
   "execution_count": 44,
   "metadata": {},
   "outputs": [
    {
     "data": {
      "text/plain": [
       "<xarray.DataArray 'lon' (lon: 360)>\n",
       "array([  0.5,   1.5,   2.5, ..., 357.5, 358.5, 359.5])\n",
       "Coordinates:\n",
       "  * lon      (lon) float64 0.5 1.5 2.5 3.5 4.5 ... 355.5 356.5 357.5 358.5 359.5\n",
       "Attributes:\n",
       "    axis:           X\n",
       "    bounds:         lon_bnds\n",
       "    cell_methods:   time: point\n",
       "    long_name:      longitude\n",
       "    standard_name:  longitude\n",
       "    units:          degrees_east"
      ]
     },
     "execution_count": 44,
     "metadata": {},
     "output_type": "execute_result"
    }
   ],
   "source": [
    "CM4_so_piC['lon']"
   ]
  },
  {
   "cell_type": "code",
   "execution_count": 45,
   "metadata": {},
   "outputs": [],
   "source": [
    "atl_vol_nadw_CM4 = hTS_CM4.sel(so_bin=slice(34.8, 35.), \n",
    "                               thetao_bin=slice(1.5,4)).sum(dim=['so_bin', 'thetao_bin'])"
   ]
  },
  {
   "cell_type": "code",
   "execution_count": 46,
   "metadata": {},
   "outputs": [
    {
     "data": {
      "text/plain": [
       "<xarray.DataArray 'histogram_so_thetao' (time: 6000)>\n",
       "array([1.12950504e+17, 1.12857794e+17, 1.12903703e+17, ...,\n",
       "       1.01668720e+17, 1.01758251e+17, 1.01950041e+17])\n",
       "Coordinates:\n",
       "  * time     (time) object 0151-01-16 12:00:00 ... 0650-12-16 12:00:00"
      ]
     },
     "execution_count": 46,
     "metadata": {},
     "output_type": "execute_result"
    }
   ],
   "source": [
    "atl_vol_nadw_CM4.load()"
   ]
  },
  {
   "cell_type": "code",
   "execution_count": 47,
   "metadata": {},
   "outputs": [
    {
     "data": {
      "text/plain": [
       "[<matplotlib.lines.Line2D at 0x7fd59f575c88>]"
      ]
     },
     "execution_count": 47,
     "metadata": {},
     "output_type": "execute_result"
    },
    {
     "data": {
      "image/png": "[encoded data removed]",
      "text/plain": [
       "<Figure size 432x288 with 1 Axes>"
      ]
     },
     "metadata": {
      "needs_background": "light"
     },
     "output_type": "display_data"
    }
   ],
   "source": [
    "atl_vol_nadw_CM4.plot()"
   ]
  },
  {
   "cell_type": "code",
   "execution_count": null,
   "metadata": {},
   "outputs": [],
   "source": []
  }
 ],
 "metadata": {
  "kernelspec": {
   "display_name": "Python 3",
   "language": "python",
   "name": "python3"
  },
  "language_info": {
   "codemirror_mode": {
    "name": "ipython",
    "version": 3
   },
   "file_extension": ".py",
   "mimetype": "text/x-python",
   "name": "python",
   "nbconvert_exporter": "python",
   "pygments_lexer": "ipython3",
   "version": "3.7.3"
  }
 },
 "nbformat": 4,
 "nbformat_minor": 4
}
