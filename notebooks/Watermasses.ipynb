{
 "cells": [
  {
   "cell_type": "markdown",
   "metadata": {},
   "source": [
    "# Water masses of the future: volume"
   ]
  },
  {
   "cell_type": "code",
   "execution_count": 1,
   "metadata": {},
   "outputs": [],
   "source": [
    "%matplotlib inline"
   ]
  },
  {
   "cell_type": "code",
   "execution_count": 2,
   "metadata": {},
   "outputs": [],
   "source": [
    "import numpy as np\n",
    "import pandas as pd\n",
    "import xarray as xr\n",
    "import gcsfs\n",
    "\n",
    "import warnings\n",
    "warnings.simplefilter(\"ignore\")"
   ]
  },
  {
   "cell_type": "code",
   "execution_count": 3,
   "metadata": {},
   "outputs": [],
   "source": [
    "fs = gcsfs.GCSFileSystem(token='anon', access='read_only')"
   ]
  },
  {
   "cell_type": "code",
   "execution_count": 4,
   "metadata": {},
   "outputs": [],
   "source": [
    "cat = pd.read_csv('https://storage.googleapis.com/cmip6/cmip6-zarr-consolidated-stores.csv')\n",
    "#cat = pd.read_csv('ftp://ftp.cgd.ucar.edu/archive/aletheia-data/intake-esm-datastore/catalogs/glade-cmip6.csv')\n",
    "#cat.info()"
   ]
  },
  {
   "cell_type": "code",
   "execution_count": 5,
   "metadata": {},
   "outputs": [],
   "source": [
    "# define a simple search on keywords\n",
    "def search_df(df, verbose= False, **search):\n",
    "    \"search by keywords - if list, then match exactly, otherwise match as substring\"\n",
    "    keys = ['activity_id','institution_id','source_id','experiment_id','member_id', 'table_id', 'variable_id', 'grid_label']\n",
    "    d = df\n",
    "    for skey in search.keys():\n",
    "        \n",
    "        if isinstance(search[skey], str):  # match a string as a substring\n",
    "            d = d[d[skey].str.contains(search[skey])]\n",
    "        else:\n",
    "            dk = []\n",
    "            for key in search[skey]:       # match a list of strings exactly\n",
    "                dk += [d[d[skey]==key]]\n",
    "            d = pd.concat(dk)\n",
    "            keys.remove(skey)\n",
    "    if verbose:\n",
    "        for key in keys:\n",
    "            print(key,' = ',list(d[key].unique()))      \n",
    "    return d"
   ]
  },
  {
   "cell_type": "markdown",
   "metadata": {},
   "source": [
    "## Load CMIP6 datasets"
   ]
  },
  {
   "cell_type": "code",
   "execution_count": 6,
   "metadata": {},
   "outputs": [
    {
     "name": "stdout",
     "output_type": "stream",
     "text": [
      "activity_id  =  ['CMIP']\n",
      "institution_id  =  ['NCAR', 'NOAA-GFDL']\n",
      "member_id  =  ['r1i1p1f1']\n",
      "table_id  =  ['Omon']\n"
     ]
    }
   ],
   "source": [
    "picontrol = search_df(cat, experiment_id=['piControl'], \n",
    "                      source_id=['CESM2', 'GFDL-CM4'],\n",
    "                      table_id='Omon', \n",
    "                      variable_id=['thetao', 'so'], \n",
    "                      grid_label=['gr'], verbose=True)"
   ]
  },
  {
   "cell_type": "code",
   "execution_count": 7,
   "metadata": {},
   "outputs": [
    {
     "name": "stdout",
     "output_type": "stream",
     "text": [
      "activity_id  =  ['CMIP']\n",
      "institution_id  =  ['NCAR', 'NOAA-GFDL']\n",
      "member_id  =  ['r10i1p1f1', 'r11i1p1f1', 'r1i1p1f1', 'r2i1p1f1', 'r3i1p1f1', 'r4i1p1f1', 'r5i1p1f1', 'r6i1p1f1', 'r7i1p1f1', 'r8i1p1f1', 'r9i1p1f1']\n",
      "table_id  =  ['Omon']\n"
     ]
    }
   ],
   "source": [
    "historical = search_df(cat, experiment_id=['historical'], \n",
    "                       source_id=['CESM2', 'GFDL-CM4'],\n",
    "                       table_id='Omon', \n",
    "                       variable_id=['thetao', 'so'], \n",
    "                       grid_label=['gr'], verbose=True)"
   ]
  },
  {
   "cell_type": "code",
   "execution_count": 8,
   "metadata": {},
   "outputs": [
    {
     "name": "stdout",
     "output_type": "stream",
     "text": [
      "activity_id  =  ['ScenarioMIP']\n",
      "institution_id  =  ['NCAR', 'NOAA-GFDL']\n",
      "source_id  =  ['CESM2-WACCM', 'CESM2', 'GFDL-CM4']\n",
      "member_id  =  ['r1i1p1f1', 'r2i1p1f1']\n",
      "table_id  =  ['Omon']\n"
     ]
    }
   ],
   "source": [
    "ssp585 = search_df(cat, experiment_id=['ssp585'], table_id='Omon',\n",
    "                   variable_id=['thetao', 'so'], \n",
    "                   grid_label=['gr'], verbose=True)"
   ]
  },
  {
   "cell_type": "code",
   "execution_count": 9,
   "metadata": {
    "jupyter": {
     "source_hidden": true
    }
   },
   "outputs": [],
   "source": [
    "#ssp585 = search_df(cat, table_id='Omon', variable_id=['thetao', 'so'], \n",
    "#                   grid_label=['gn'], verbose=True)"
   ]
  },
  {
   "cell_type": "code",
   "execution_count": 10,
   "metadata": {
    "jupyter": {
     "source_hidden": true
    }
   },
   "outputs": [],
   "source": [
    "#zstores_hist = historical.zstore.unique()\n",
    "#\n",
    "#dset_dict_hist = {}\n",
    "#for zstore in zstores_hist:\n",
    "#    name = zstore.split('gs://cmip6/')[1].replace('/','.')[:-1]\n",
    "#    print(name)\n",
    "#\n",
    "#    ds = xr.open_zarr(fs.get_mapper(zstore))       # DO NOT USE \"decode_times = False\"\n",
    "#    print(dict(ds.dims),'\\n')\n",
    "#    \n",
    "#    dset_dict_hist[name] = ds"
   ]
  },
  {
   "cell_type": "code",
   "execution_count": 11,
   "metadata": {},
   "outputs": [],
   "source": [
    "def create_dsdict_from_cat(df):\n",
    "    \"\"\" thanks naomi\"\"\"\n",
    "    zstores = df.zstore.unique()\n",
    "\n",
    "    dset_dict = {}\n",
    "    for zstore in zstores:\n",
    "        name = zstore.split('gs://cmip6/')[1].replace('/','.')[:-1]\n",
    "        print(name)\n",
    "\n",
    "        ds = xr.open_zarr(fs.get_mapper(zstore))       # DO NOT USE \"decode_times = False\"\n",
    "        print(dict(ds.dims),'\\n')\n",
    "    \n",
    "        dset_dict[name] = ds\n",
    "    return dset_dict"
   ]
  },
  {
   "cell_type": "code",
   "execution_count": 12,
   "metadata": {},
   "outputs": [
    {
     "name": "stdout",
     "output_type": "stream",
     "text": [
      "CMIP.NCAR.CESM2.piControl.r1i1p1f1.Omon.thetao.gr\n",
      "{'d2': 2, 'lat': 180, 'lev': 33, 'lon': 360, 'time': 14400} \n",
      "\n",
      "CMIP.NOAA-GFDL.GFDL-CM4.piControl.r1i1p1f1.Omon.thetao.gr\n",
      "{'bnds': 2, 'lat': 180, 'lev': 35, 'lon': 360, 'time': 6000} \n",
      "\n",
      "CMIP.NCAR.CESM2.piControl.r1i1p1f1.Omon.so.gr\n",
      "{'d2': 2, 'lat': 180, 'lev': 33, 'lon': 360, 'time': 14400} \n",
      "\n",
      "CMIP.NOAA-GFDL.GFDL-CM4.piControl.r1i1p1f1.Omon.so.gr\n",
      "{'bnds': 2, 'lat': 180, 'lev': 35, 'lon': 360, 'time': 6000} \n",
      "\n"
     ]
    }
   ],
   "source": [
    "dict_piC = create_dsdict_from_cat(picontrol)"
   ]
  },
  {
   "cell_type": "code",
   "execution_count": 13,
   "metadata": {},
   "outputs": [
    {
     "name": "stdout",
     "output_type": "stream",
     "text": [
      "CMIP.NCAR.CESM2.historical.r10i1p1f1.Omon.thetao.gr\n",
      "{'d2': 2, 'lat': 180, 'lev': 33, 'lon': 360, 'time': 1980} \n",
      "\n",
      "CMIP.NCAR.CESM2.historical.r11i1p1f1.Omon.thetao.gr\n",
      "{'d2': 2, 'lat': 180, 'lev': 33, 'lon': 360, 'time': 1980} \n",
      "\n",
      "CMIP.NCAR.CESM2.historical.r1i1p1f1.Omon.thetao.gr\n",
      "{'d2': 2, 'lat': 180, 'lev': 33, 'lon': 360, 'time': 1980} \n",
      "\n",
      "CMIP.NCAR.CESM2.historical.r2i1p1f1.Omon.thetao.gr\n",
      "{'d2': 2, 'lat': 180, 'lev': 33, 'lon': 360, 'time': 1980} \n",
      "\n",
      "CMIP.NCAR.CESM2.historical.r3i1p1f1.Omon.thetao.gr\n",
      "{'d2': 2, 'lat': 180, 'lev': 33, 'lon': 360, 'time': 1980} \n",
      "\n",
      "CMIP.NCAR.CESM2.historical.r4i1p1f1.Omon.thetao.gr\n",
      "{'d2': 2, 'lat': 180, 'lev': 33, 'lon': 360, 'time': 1980} \n",
      "\n",
      "CMIP.NCAR.CESM2.historical.r5i1p1f1.Omon.thetao.gr\n",
      "{'d2': 2, 'lat': 180, 'lev': 33, 'lon': 360, 'time': 1980} \n",
      "\n",
      "CMIP.NCAR.CESM2.historical.r6i1p1f1.Omon.thetao.gr\n",
      "{'d2': 2, 'lat': 180, 'lev': 33, 'lon': 360, 'time': 1980} \n",
      "\n",
      "CMIP.NCAR.CESM2.historical.r7i1p1f1.Omon.thetao.gr\n",
      "{'d2': 2, 'lat': 180, 'lev': 33, 'lon': 360, 'time': 1980} \n",
      "\n",
      "CMIP.NCAR.CESM2.historical.r8i1p1f1.Omon.thetao.gr\n",
      "{'d2': 2, 'lat': 180, 'lev': 33, 'lon': 360, 'time': 1980} \n",
      "\n",
      "CMIP.NCAR.CESM2.historical.r9i1p1f1.Omon.thetao.gr\n",
      "{'d2': 2, 'lat': 180, 'lev': 33, 'lon': 360, 'time': 1980} \n",
      "\n",
      "CMIP.NOAA-GFDL.GFDL-CM4.historical.r1i1p1f1.Omon.thetao.gr\n",
      "{'bnds': 2, 'lat': 180, 'lev': 35, 'lon': 360, 'time': 1980} \n",
      "\n",
      "CMIP.NCAR.CESM2.historical.r10i1p1f1.Omon.so.gr\n",
      "{'d2': 2, 'lat': 180, 'lev': 33, 'lon': 360, 'time': 1980} \n",
      "\n",
      "CMIP.NCAR.CESM2.historical.r11i1p1f1.Omon.so.gr\n",
      "{'d2': 2, 'lat': 180, 'lev': 33, 'lon': 360, 'time': 1980} \n",
      "\n",
      "CMIP.NCAR.CESM2.historical.r1i1p1f1.Omon.so.gr\n",
      "{'d2': 2, 'lat': 180, 'lev': 33, 'lon': 360, 'time': 1980} \n",
      "\n",
      "CMIP.NCAR.CESM2.historical.r2i1p1f1.Omon.so.gr\n",
      "{'d2': 2, 'lat': 180, 'lev': 33, 'lon': 360, 'time': 1980} \n",
      "\n",
      "CMIP.NCAR.CESM2.historical.r3i1p1f1.Omon.so.gr\n",
      "{'d2': 2, 'lat': 180, 'lev': 33, 'lon': 360, 'time': 1980} \n",
      "\n",
      "CMIP.NCAR.CESM2.historical.r4i1p1f1.Omon.so.gr\n",
      "{'d2': 2, 'lat': 180, 'lev': 33, 'lon': 360, 'time': 1980} \n",
      "\n",
      "CMIP.NCAR.CESM2.historical.r5i1p1f1.Omon.so.gr\n",
      "{'d2': 2, 'lat': 180, 'lev': 33, 'lon': 360, 'time': 1980} \n",
      "\n",
      "CMIP.NCAR.CESM2.historical.r6i1p1f1.Omon.so.gr\n",
      "{'d2': 2, 'lat': 180, 'lev': 33, 'lon': 360, 'time': 1980} \n",
      "\n",
      "CMIP.NCAR.CESM2.historical.r7i1p1f1.Omon.so.gr\n",
      "{'d2': 2, 'lat': 180, 'lev': 33, 'lon': 360, 'time': 1980} \n",
      "\n",
      "CMIP.NCAR.CESM2.historical.r8i1p1f1.Omon.so.gr\n",
      "{'d2': 2, 'lat': 180, 'lev': 33, 'lon': 360, 'time': 1980} \n",
      "\n",
      "CMIP.NCAR.CESM2.historical.r9i1p1f1.Omon.so.gr\n",
      "{'d2': 2, 'lat': 180, 'lev': 33, 'lon': 360, 'time': 1980} \n",
      "\n",
      "CMIP.NOAA-GFDL.GFDL-CM4.historical.r1i1p1f1.Omon.so.gr\n",
      "{'bnds': 2, 'lat': 180, 'lev': 35, 'lon': 360, 'time': 1980} \n",
      "\n"
     ]
    }
   ],
   "source": [
    "dict_hist = create_dsdict_from_cat(historical)"
   ]
  },
  {
   "cell_type": "code",
   "execution_count": 14,
   "metadata": {},
   "outputs": [
    {
     "name": "stdout",
     "output_type": "stream",
     "text": [
      "ScenarioMIP.NCAR.CESM2-WACCM.ssp585.r1i1p1f1.Omon.thetao.gr\n",
      "{'d2': 2, 'lat': 180, 'lev': 33, 'lon': 360, 'time': 1032} \n",
      "\n",
      "ScenarioMIP.NCAR.CESM2.ssp585.r2i1p1f1.Omon.thetao.gr\n",
      "{'d2': 2, 'lat': 180, 'lev': 33, 'lon': 360, 'time': 1032} \n",
      "\n",
      "ScenarioMIP.NOAA-GFDL.GFDL-CM4.ssp585.r1i1p1f1.Omon.thetao.gr\n",
      "{'bnds': 2, 'lat': 180, 'lev': 35, 'lon': 360, 'time': 1032} \n",
      "\n",
      "ScenarioMIP.NCAR.CESM2-WACCM.ssp585.r1i1p1f1.Omon.so.gr\n",
      "{'d2': 2, 'lat': 180, 'lev': 33, 'lon': 360, 'time': 1032} \n",
      "\n",
      "ScenarioMIP.NCAR.CESM2.ssp585.r2i1p1f1.Omon.so.gr\n",
      "{'d2': 2, 'lat': 180, 'lev': 33, 'lon': 360, 'time': 1032} \n",
      "\n",
      "ScenarioMIP.NOAA-GFDL.GFDL-CM4.ssp585.r1i1p1f1.Omon.so.gr\n",
      "{'bnds': 2, 'lat': 180, 'lev': 35, 'lon': 360, 'time': 1032} \n",
      "\n"
     ]
    }
   ],
   "source": [
    "dict_ssp585 = create_dsdict_from_cat(ssp585)"
   ]
  },
  {
   "cell_type": "markdown",
   "metadata": {},
   "source": [
    "## Volumes in piControl"
   ]
  },
  {
   "cell_type": "code",
   "execution_count": 15,
   "metadata": {},
   "outputs": [],
   "source": [
    "from xhistogram.xarray import histogram"
   ]
  },
  {
   "cell_type": "code",
   "execution_count": 16,
   "metadata": {},
   "outputs": [],
   "source": [
    "CM4_thetao_piC = dict_piC['CMIP.NOAA-GFDL.GFDL-CM4.piControl.r1i1p1f1.Omon.thetao.gr']\n",
    "\n",
    "CM4_so_piC = dict_piC['CMIP.NOAA-GFDL.GFDL-CM4.piControl.r1i1p1f1.Omon.so.gr']\n",
    "\n",
    "CESM2_so_piC = dict_piC['CMIP.NCAR.CESM2.piControl.r1i1p1f1.Omon.so.gr']\n",
    "\n",
    "CESM2_thetao_piC = dict_piC['CMIP.NCAR.CESM2.piControl.r1i1p1f1.Omon.thetao.gr']"
   ]
  },
  {
   "cell_type": "code",
   "execution_count": 17,
   "metadata": {},
   "outputs": [],
   "source": [
    "#CESM2_thetao_piC"
   ]
  },
  {
   "cell_type": "markdown",
   "metadata": {},
   "source": [
    "### Set up bins and volume of cells for histogram"
   ]
  },
  {
   "cell_type": "code",
   "execution_count": 18,
   "metadata": {},
   "outputs": [],
   "source": [
    "sbins = np.arange(20, 40, 0.025)\n",
    "tbins = np.arange(-2, 40, 0.1)"
   ]
  },
  {
   "cell_type": "code",
   "execution_count": 19,
   "metadata": {},
   "outputs": [],
   "source": [
    "# Create a dz variable, all datasets are on common grid so this should work with everything\n",
    "dz = np.diff(CESM2_thetao_piC['lev'])\n",
    "dz =np.insert(dz, 0, dz[0])\n",
    "dz = xr.DataArray(dz, coords= {'lev': CESM2_thetao_piC['lev']}, dims='lev')\n",
    "\n",
    "#print(CESM2_thetao_piC['lev'])\n",
    "#print(dz)\n",
    "## weight by volume of grid cell (resolution = 5degree, 1degree=110km)\n",
    "dVol_cesm2 = dz * (110e3) * (110e3*np.cos(CESM2_thetao_piC['lat']*np.pi/180))"
   ]
  },
  {
   "cell_type": "code",
   "execution_count": 20,
   "metadata": {},
   "outputs": [
    {
     "data": {
      "text/plain": [
       "<xarray.DataArray ()>\n",
       "array(7.6400308e+15)"
      ]
     },
     "execution_count": 20,
     "metadata": {},
     "output_type": "execute_result"
    }
   ],
   "source": [
    "dVol_cesm2.sum()"
   ]
  },
  {
   "cell_type": "code",
   "execution_count": 21,
   "metadata": {},
   "outputs": [],
   "source": [
    "# not quite\n",
    "dz = np.diff(CM4_thetao_piC['lev'])\n",
    "dz =np.insert(dz, 0, dz[0])\n",
    "dz = xr.DataArray(dz, coords= {'lev': CM4_thetao_piC['lev']}, dims='lev')\n",
    "\n",
    "#print(CM4_thetao_piC['lev'])\n",
    "#print(dz)\n",
    "# weight by volume of grid cell (resolution = 5degree, 1degree=110km)\n",
    "dVol_cm4 = dz * (110e3) * (110e3*np.cos(CM4_thetao_piC['lat']*np.pi/180))"
   ]
  },
  {
   "cell_type": "code",
   "execution_count": 22,
   "metadata": {},
   "outputs": [
    {
     "data": {
      "text/plain": [
       "<xarray.DataArray ()>\n",
       "array(9.01967339e+15)"
      ]
     },
     "execution_count": 22,
     "metadata": {},
     "output_type": "execute_result"
    }
   ],
   "source": [
    "dVol_cm4.sum()"
   ]
  },
  {
   "cell_type": "markdown",
   "metadata": {},
   "source": [
    "CM4 is deeper than CESM2 hence difference in total. And without topography."
   ]
  },
  {
   "cell_type": "markdown",
   "metadata": {},
   "source": [
    "### Let's get this party started"
   ]
  },
  {
   "cell_type": "code",
   "execution_count": 23,
   "metadata": {},
   "outputs": [
    {
     "data": {
      "application/vnd.jupyter.widget-view+json": {
       "model_id": "88cacbd822ee40a7b71d4bd9e24dd671",
       "version_major": 2,
       "version_minor": 0
      },
      "text/plain": [
       "VBox(children=(HTML(value='<h2>KubeCluster</h2>'), HBox(children=(HTML(value='\\n<div>\\n  <style scoped>\\n    .…"
      ]
     },
     "metadata": {},
     "output_type": "display_data"
    }
   ],
   "source": [
    "from dask_kubernetes import KubeCluster\n",
    "from dask.distributed import Client\n",
    "cluster = KubeCluster()\n",
    "cluster.adapt(minimum=1, maximum=10)\n",
    "client = Client(cluster)\n",
    "cluster"
   ]
  },
  {
   "cell_type": "markdown",
   "metadata": {},
   "source": [
    "### CESM2 and CM4 - piControl"
   ]
  },
  {
   "cell_type": "code",
   "execution_count": 24,
   "metadata": {
    "jupyter": {
     "source_hidden": true
    }
   },
   "outputs": [],
   "source": [
    "#hTS_CESM2 = histogram(CESM2_so_piC['so'],\n",
    "#                      CESM2_thetao_piC['thetao'],\n",
    "#                      bins=[sbins, tbins],\n",
    "#                      dim=('lon', 'lat', 'lev'),\n",
    "#                      weights=dVol_cesm2)"
   ]
  },
  {
   "cell_type": "code",
   "execution_count": 54,
   "metadata": {
    "collapsed": true,
    "jupyter": {
     "outputs_hidden": true,
     "source_hidden": true
    }
   },
   "outputs": [
    {
     "data": {
      "text/plain": [
       "<xarray.DataArray 'histogram_so_thetao' (time: 14400, so_bin: 279, thetao_bin: 339)>\n",
       "dask.array<getitem, shape=(14400, 279, 339), dtype=float64, chunksize=(11, 279, 339), chunktype=numpy.ndarray>\n",
       "Coordinates:\n",
       "  * time        (time) object 0001-01-15 12:59:59 ... 1200-12-15 12:00:00\n",
       "  * so_bin      (so_bin) float64 31.01 31.04 31.06 31.09 ... 37.91 37.94 37.96\n",
       "  * thetao_bin  (thetao_bin) float64 -1.95 -1.85 -1.75 ... 31.65 31.75 31.85"
      ]
     },
     "execution_count": 54,
     "metadata": {},
     "output_type": "execute_result"
    }
   ],
   "source": [
    "#hTS_CESM2"
   ]
  },
  {
   "cell_type": "code",
   "execution_count": 56,
   "metadata": {
    "jupyter": {
     "source_hidden": true
    }
   },
   "outputs": [],
   "source": [
    "#vol_nadw_CESM2 = hTS_CESM2.sel(so_bin=slice(34.8, 35.), \n",
    "#                               thetao_bin=slice(1.5,4)).sum(dim=['so_bin', 'thetao_bin'])"
   ]
  },
  {
   "cell_type": "code",
   "execution_count": 57,
   "metadata": {
    "collapsed": true,
    "jupyter": {
     "outputs_hidden": true,
     "source_hidden": true
    }
   },
   "outputs": [
    {
     "name": "stderr",
     "output_type": "stream",
     "text": [
      "distributed.comm.tcp - WARNING - Closing dangling stream in <TCP  local=tcp://10.32.5.12:41840 remote=tcp://10.32.5.12:38325>\n",
      "distributed.comm.tcp - WARNING - Closing dangling stream in <TCP  local=tcp://10.32.5.12:41842 remote=tcp://10.32.5.12:38325>\n"
     ]
    },
    {
     "data": {
      "text/plain": [
       "<xarray.DataArray 'histogram_so_thetao' (time: 14400)>\n",
       "array([1.19804457e+17, 1.19808830e+17, 1.19838399e+17, ...,\n",
       "       2.08909331e+17, 2.08857520e+17, 2.08815188e+17])\n",
       "Coordinates:\n",
       "  * time     (time) object 0001-01-15 12:59:59 ... 1200-12-15 12:00:00"
      ]
     },
     "execution_count": 57,
     "metadata": {},
     "output_type": "execute_result"
    }
   ],
   "source": [
    "#vol_nadw_CESM2.load()"
   ]
  },
  {
   "cell_type": "code",
   "execution_count": 58,
   "metadata": {
    "collapsed": true,
    "jupyter": {
     "outputs_hidden": true,
     "source_hidden": true
    }
   },
   "outputs": [
    {
     "data": {
      "text/plain": [
       "[<matplotlib.lines.Line2D at 0x7f8c25d4fd30>]"
      ]
     },
     "execution_count": 58,
     "metadata": {},
     "output_type": "execute_result"
    },
    {
     "data": {
      "image/png": "[encoded data removed]",
      "text/plain": [
       "<Figure size 432x288 with 1 Axes>"
      ]
     },
     "metadata": {
      "needs_background": "light"
     },
     "output_type": "display_data"
    }
   ],
   "source": [
    "#vol_nadw_CESM2.plot()"
   ]
  },
  {
   "cell_type": "markdown",
   "metadata": {},
   "source": [
    "#### Let's refine with basin codes"
   ]
  },
  {
   "cell_type": "code",
   "execution_count": 24,
   "metadata": {},
   "outputs": [],
   "source": [
    "basincodes = xr.open_dataset('../data/basin_codes.r360x180.nc')\n",
    "\n",
    "basincodes_CESM2 = basincodes.rename({'Longitude': 'lon', 'Latitude': 'lat'})\n",
    "basincodes_CESM2['lon'] = CESM2_so_piC['lon']\n",
    "basincodes_CESM2['lat'] = CESM2_so_piC['lat']"
   ]
  },
  {
   "cell_type": "code",
   "execution_count": 25,
   "metadata": {},
   "outputs": [
    {
     "data": {
      "text/plain": [
       "<matplotlib.collections.QuadMesh at 0x7fb24e3b0f28>"
      ]
     },
     "execution_count": 25,
     "metadata": {},
     "output_type": "execute_result"
    },
    {
     "data": {
      "image/png": "[encoded data removed]",
      "text/plain": [
       "<Figure size 432x288 with 2 Axes>"
      ]
     },
     "metadata": {
      "needs_background": "light"
     },
     "output_type": "display_data"
    }
   ],
   "source": [
    "basincodes_CESM2['basin'].plot(vmin=0, vmax=5)"
   ]
  },
  {
   "cell_type": "code",
   "execution_count": 26,
   "metadata": {},
   "outputs": [
    {
     "data": {
      "text/plain": [
       "<matplotlib.collections.QuadMesh at 0x7fb24e279d30>"
      ]
     },
     "execution_count": 26,
     "metadata": {},
     "output_type": "execute_result"
    },
    {
     "data": {
      "image/png": "[encoded data removed]",
      "text/plain": [
       "<Figure size 432x288 with 2 Axes>"
      ]
     },
     "metadata": {
      "needs_background": "light"
     },
     "output_type": "display_data"
    }
   ],
   "source": [
    "basincodes_CESM2['basin'].where(basincodes_CESM2['basin'] == 2).plot()"
   ]
  },
  {
   "cell_type": "code",
   "execution_count": 27,
   "metadata": {},
   "outputs": [
    {
     "data": {
      "text/plain": [
       "<matplotlib.collections.QuadMesh at 0x7fb24e13d5c0>"
      ]
     },
     "execution_count": 27,
     "metadata": {},
     "output_type": "execute_result"
    },
    {
     "data": {
      "image/png": "[encoded data removed]",
      "text/plain": [
       "<Figure size 432x288 with 2 Axes>"
      ]
     },
     "metadata": {
      "needs_background": "light"
     },
     "output_type": "display_data"
    }
   ],
   "source": [
    "CESM2_thetao_piC['thetao'].isel(time=0, lev=0).where(basincodes_CESM2['basin'] == 2).plot(vmin=-2,\n",
    "                                                                                          vmax=30)"
   ]
  },
  {
   "cell_type": "code",
   "execution_count": 28,
   "metadata": {},
   "outputs": [],
   "source": [
    "hTS_CESM2 = histogram(CESM2_so_piC['so'].where(basincodes_CESM2['basin'] == 2),\n",
    "                      CESM2_thetao_piC['thetao'].where(basincodes_CESM2['basin'] == 2),\n",
    "                      bins=[sbins, tbins],\n",
    "                      dim=('lon', 'lat', 'lev'),\n",
    "                      weights=dVol_cesm2)"
   ]
  },
  {
   "cell_type": "code",
   "execution_count": 29,
   "metadata": {},
   "outputs": [],
   "source": [
    "atl_vol_nadw_CESM2 = hTS_CESM2.sel(so_bin=slice(34.8, 35.), \n",
    "                                   thetao_bin=slice(1.5,4)).sum(dim=['so_bin', 'thetao_bin'])"
   ]
  },
  {
   "cell_type": "code",
   "execution_count": 30,
   "metadata": {},
   "outputs": [
    {
     "data": {
      "text/plain": [
       "<xarray.DataArray 'histogram_so_thetao' (time: 14400)>\n",
       "array([3.21612203e+16, 3.21588890e+16, 3.21407182e+16, ...,\n",
       "       4.64435566e+16, 4.64352302e+16, 4.63825674e+16])\n",
       "Coordinates:\n",
       "  * time     (time) object 0001-01-15 12:59:59 ... 1200-12-15 12:00:00"
      ]
     },
     "execution_count": 30,
     "metadata": {},
     "output_type": "execute_result"
    }
   ],
   "source": [
    "atl_vol_nadw_CESM2.load()"
   ]
  },
  {
   "cell_type": "code",
   "execution_count": 31,
   "metadata": {},
   "outputs": [
    {
     "data": {
      "text/plain": [
       "[<matplotlib.lines.Line2D at 0x7f73e2733160>]"
      ]
     },
     "execution_count": 31,
     "metadata": {},
     "output_type": "execute_result"
    },
    {
     "data": {
      "image/png": "[encoded data removed]",
      "text/plain": [
       "<Figure size 432x288 with 1 Axes>"
      ]
     },
     "metadata": {
      "needs_background": "light"
     },
     "output_type": "display_data"
    }
   ],
   "source": [
    "atl_vol_nadw_CESM2.plot()"
   ]
  },
  {
   "cell_type": "code",
   "execution_count": 32,
   "metadata": {},
   "outputs": [],
   "source": [
    "ds_nadw_CESM2 = xr.Dataset()\n",
    "ds_nadw_CESM2['vol_nadw_atl'] = atl_vol_nadw_CESM2\n",
    "ds_nadw_CESM2.to_netcdf('../data/nadw_CESM2_piC.nc')"
   ]
  },
  {
   "cell_type": "code",
   "execution_count": null,
   "metadata": {},
   "outputs": [],
   "source": []
  },
  {
   "cell_type": "code",
   "execution_count": 22,
   "metadata": {
    "jupyter": {
     "source_hidden": true
    }
   },
   "outputs": [],
   "source": [
    "hTS_CM4 = histogram(CM4_so_piC['so'],\n",
    "                    CM4_thetao_piC['thetao'],\n",
    "                    bins=[sbins, tbins],\n",
    "                    dim=('lon', 'lat', 'lev'),\n",
    "                    weights=dVol_cm4)"
   ]
  },
  {
   "cell_type": "code",
   "execution_count": 56,
   "metadata": {
    "jupyter": {
     "source_hidden": true
    }
   },
   "outputs": [],
   "source": [
    "#assert (CM4_so_piC['so'].lev.values == CM4_thetao_piC['thetao'].lev.values).all()"
   ]
  },
  {
   "cell_type": "code",
   "execution_count": 23,
   "metadata": {
    "jupyter": {
     "source_hidden": true
    }
   },
   "outputs": [],
   "source": [
    "#CM4_so_pic = CM4_so_piC.unify_chunks()\n",
    "#CM4_so_pic = CM4_so_piC.chunks({'time': 25})"
   ]
  },
  {
   "cell_type": "code",
   "execution_count": 24,
   "metadata": {
    "jupyter": {
     "source_hidden": true
    }
   },
   "outputs": [],
   "source": [
    "#hTS_CM4 = histogram(CM4_so_piC['so'],\n",
    "#                    CM4_thetao_piC['thetao'],\n",
    "#                    bins=[sbins, tbins],\n",
    "#                    dim=('lon', 'lat', 'lev'),\n",
    "#                    weights=dVol_cm4)"
   ]
  },
  {
   "cell_type": "code",
   "execution_count": 25,
   "metadata": {
    "jupyter": {
     "source_hidden": true
    }
   },
   "outputs": [],
   "source": [
    "vol_nadw_CM4 = hTS_CM4.sel(so_bin=slice(34.8, 35.), \n",
    "                           thetao_bin=slice(1.5,4)).sum(dim=['so_bin', 'thetao_bin'])"
   ]
  },
  {
   "cell_type": "code",
   "execution_count": 26,
   "metadata": {
    "collapsed": true,
    "jupyter": {
     "outputs_hidden": true,
     "source_hidden": true
    }
   },
   "outputs": [
    {
     "data": {
      "text/plain": [
       "<xarray.DataArray 'histogram_so_thetao' (time: 6000)>\n",
       "array([1.19443985e+17, 1.19323221e+17, 1.19432044e+17, ...,\n",
       "       1.14538570e+17, 1.14615831e+17, 1.14692345e+17])\n",
       "Coordinates:\n",
       "  * time     (time) object 0151-01-16 12:00:00 ... 0650-12-16 12:00:00"
      ]
     },
     "execution_count": 26,
     "metadata": {},
     "output_type": "execute_result"
    }
   ],
   "source": [
    "vol_nadw_CM4.load()"
   ]
  },
  {
   "cell_type": "code",
   "execution_count": 27,
   "metadata": {
    "collapsed": true,
    "jupyter": {
     "outputs_hidden": true,
     "source_hidden": true
    }
   },
   "outputs": [
    {
     "data": {
      "text/plain": [
       "[<matplotlib.lines.Line2D at 0x7fd5aa8cb0f0>]"
      ]
     },
     "execution_count": 27,
     "metadata": {},
     "output_type": "execute_result"
    },
    {
     "data": {
      "image/png": "[encoded data removed]",
      "text/plain": [
       "<Figure size 432x288 with 1 Axes>"
      ]
     },
     "metadata": {
      "needs_background": "light"
     },
     "output_type": "display_data"
    }
   ],
   "source": [
    "vol_nadw_CM4.plot()"
   ]
  },
  {
   "cell_type": "markdown",
   "metadata": {},
   "source": [
    "#### Let's refine with basin codes"
   ]
  },
  {
   "cell_type": "code",
   "execution_count": 29,
   "metadata": {},
   "outputs": [],
   "source": [
    "basincodes_CM4 = xr.open_dataset('../data/basin_codes.r360x180.nc')\n",
    "\n",
    "basincodes_CM4 = basincodes_CM4.rename({'Longitude': 'lon', 'Latitude': 'lat'})\n",
    "basincodes_CM4['lon'] = CM4_so_piC['lon']\n",
    "basincodes_CM4['lat'] = CM4_so_piC['lat']"
   ]
  },
  {
   "cell_type": "code",
   "execution_count": 30,
   "metadata": {},
   "outputs": [
    {
     "data": {
      "text/plain": [
       "<matplotlib.collections.QuadMesh at 0x7fb24dca00f0>"
      ]
     },
     "execution_count": 30,
     "metadata": {},
     "output_type": "execute_result"
    },
    {
     "data": {
      "image/png": "[encoded data removed]",
      "text/plain": [
       "<Figure size 432x288 with 2 Axes>"
      ]
     },
     "metadata": {
      "needs_background": "light"
     },
     "output_type": "display_data"
    }
   ],
   "source": [
    "CM4_thetao_piC['thetao'].isel(time=0, lev=0).where(basincodes_CM4['basin'] == 2).plot(vmin=-2,\n",
    "                                                                                      vmax=30)"
   ]
  },
  {
   "cell_type": "code",
   "execution_count": 39,
   "metadata": {},
   "outputs": [],
   "source": [
    "hTS_CM4 = histogram(CM4_so_piC['so'].where(basincodes_CM4['basin'] == 2),\n",
    "                    CM4_thetao_piC['thetao'].where(basincodes_CM4['basin'] ==2),\n",
    "                    bins=[sbins, tbins],\n",
    "                    dim=('lon', 'lat', 'lev'),\n",
    "                    weights=dVol_cm4)"
   ]
  },
  {
   "cell_type": "code",
   "execution_count": 60,
   "metadata": {},
   "outputs": [],
   "source": [
    "atlso = CM4_so_piC['so'].where(basincodes_CM4['basin'] == 2)\n",
    "atlthetao = CM4_thetao_piC['thetao'].where(basincodes_CM4['basin'] ==2)\n",
    "\n",
    "hTS_CM4 = histogram(atlso,\n",
    "                    atlthetao,\n",
    "                    bins=[sbins, tbins],\n",
    "                    dim=('lon', 'lat', 'lev'),\n",
    "                    weights=dVol_cm4.where(~np.isnan(atlso)))"
   ]
  },
  {
   "cell_type": "code",
   "execution_count": 61,
   "metadata": {},
   "outputs": [],
   "source": [
    "atl_vol_nadw_CM4 = hTS_CM4.sel(so_bin=slice(34.8, 35.), \n",
    "                               thetao_bin=slice(1.5,4)).sum(dim=['so_bin', 'thetao_bin'])"
   ]
  },
  {
   "cell_type": "code",
   "execution_count": 62,
   "metadata": {},
   "outputs": [
    {
     "data": {
      "text/plain": [
       "<xarray.DataArray 'histogram_so_thetao' (time: 6000)>\n",
       "array([1.12950504e+17, 1.12857794e+17, 1.12903703e+17, ...,\n",
       "       1.01668720e+17, 1.01758251e+17, 1.01950041e+17])\n",
       "Coordinates:\n",
       "  * time     (time) object 0151-01-16 12:00:00 ... 0650-12-16 12:00:00"
      ]
     },
     "execution_count": 62,
     "metadata": {},
     "output_type": "execute_result"
    }
   ],
   "source": [
    "atl_vol_nadw_CM4.load()"
   ]
  },
  {
   "cell_type": "code",
   "execution_count": 63,
   "metadata": {},
   "outputs": [
    {
     "data": {
      "text/plain": [
       "[<matplotlib.lines.Line2D at 0x7f738ce29da0>]"
      ]
     },
     "execution_count": 63,
     "metadata": {},
     "output_type": "execute_result"
    },
    {
     "data": {
      "image/png": "[encoded data removed]",
      "text/plain": [
       "<Figure size 432x288 with 1 Axes>"
      ]
     },
     "metadata": {
      "needs_background": "light"
     },
     "output_type": "display_data"
    }
   ],
   "source": [
    "atl_vol_nadw_CM4.plot()"
   ]
  },
  {
   "cell_type": "code",
   "execution_count": 43,
   "metadata": {},
   "outputs": [
    {
     "data": {
      "text/plain": [
       "[<matplotlib.lines.Line2D at 0x7f73aeccbc50>]"
      ]
     },
     "execution_count": 43,
     "metadata": {},
     "output_type": "execute_result"
    },
    {
     "data": {
      "image/png": "[encoded data removed]",
      "text/plain": [
       "<Figure size 432x288 with 1 Axes>"
      ]
     },
     "metadata": {
      "needs_background": "light"
     },
     "output_type": "display_data"
    }
   ],
   "source": [
    "atl_vol_nadw_CM4.plot()"
   ]
  },
  {
   "cell_type": "code",
   "execution_count": 38,
   "metadata": {},
   "outputs": [
    {
     "data": {
      "text/plain": [
       "[<matplotlib.lines.Line2D at 0x7f73d8e699e8>]"
      ]
     },
     "execution_count": 38,
     "metadata": {},
     "output_type": "execute_result"
    },
    {
     "data": {
      "image/png": "[encoded data removed]",
      "text/plain": [
       "<Figure size 432x288 with 1 Axes>"
      ]
     },
     "metadata": {
      "needs_background": "light"
     },
     "output_type": "display_data"
    }
   ],
   "source": [
    "atl_vol_nadw_CM4.plot()"
   ]
  },
  {
   "cell_type": "code",
   "execution_count": 39,
   "metadata": {},
   "outputs": [],
   "source": [
    "ds_nadw_CM4 = xr.Dataset()\n",
    "ds_nadw_CM4['vol_nadw_atl'] = atl_vol_nadw_CM4\n",
    "ds_nadw_CM4.to_netcdf('../data/nadw_CM4_piC.nc')"
   ]
  },
  {
   "cell_type": "markdown",
   "metadata": {},
   "source": [
    "Let's try to figure out why this is so different:"
   ]
  },
  {
   "cell_type": "code",
   "execution_count": 32,
   "metadata": {},
   "outputs": [],
   "source": [
    "# CESM\n",
    "deepwater_CESM2 = hTS_CESM2.sel(thetao_bin=slice(0,5)).sum(dim=['so_bin', 'thetao_bin'])\n",
    "intwater_CESM2 = hTS_CESM2.sel(thetao_bin=slice(5,15)).sum(dim=['so_bin', 'thetao_bin'])\n",
    "surfwater_CESM2 = hTS_CESM2.sel(thetao_bin=slice(15,40)).sum(dim=['so_bin', 'thetao_bin'])"
   ]
  },
  {
   "cell_type": "code",
   "execution_count": 33,
   "metadata": {},
   "outputs": [
    {
     "data": {
      "text/plain": [
       "<xarray.DataArray 'histogram_so_thetao' (time: 14400)>\n",
       "array([2.04554700e+17, 2.04544502e+17, 2.04420437e+17, ...,\n",
       "       1.96878127e+17, 1.96888586e+17, 1.96971327e+17])\n",
       "Coordinates:\n",
       "  * time     (time) object 0001-01-15 12:59:59 ... 1200-12-15 12:00:00"
      ]
     },
     "execution_count": 33,
     "metadata": {},
     "output_type": "execute_result"
    }
   ],
   "source": [
    "deepwater_CESM2.load()"
   ]
  },
  {
   "cell_type": "code",
   "execution_count": 34,
   "metadata": {},
   "outputs": [
    {
     "data": {
      "text/plain": [
       "<xarray.DataArray 'histogram_so_thetao' (time: 14400)>\n",
       "array([7.98609413e+16, 7.99566623e+16, 8.01127872e+16, ...,\n",
       "       8.69686041e+16, 8.69424401e+16, 8.69789267e+16])\n",
       "Coordinates:\n",
       "  * time     (time) object 0001-01-15 12:59:59 ... 1200-12-15 12:00:00"
      ]
     },
     "execution_count": 34,
     "metadata": {},
     "output_type": "execute_result"
    }
   ],
   "source": [
    "intwater_CESM2.load()"
   ]
  },
  {
   "cell_type": "code",
   "execution_count": 35,
   "metadata": {},
   "outputs": [
    {
     "name": "stderr",
     "output_type": "stream",
     "text": [
      "distributed.utils - ERROR - 'tcp://10.32.53.2:32793'\n",
      "Traceback (most recent call last):\n",
      "  File \"/srv/conda/envs/notebook/lib/python3.7/site-packages/distributed/utils.py\", line 662, in log_errors\n",
      "    yield\n",
      "  File \"/srv/conda/envs/notebook/lib/python3.7/site-packages/distributed/scheduler.py\", line 1524, in add_worker\n",
      "    await self.handle_worker(comm=comm, worker=address)\n",
      "  File \"/srv/conda/envs/notebook/lib/python3.7/site-packages/distributed/scheduler.py\", line 2437, in handle_worker\n",
      "    worker_comm = self.stream_comms[worker]\n",
      "KeyError: 'tcp://10.32.53.2:32793'\n",
      "distributed.core - ERROR - 'tcp://10.32.53.2:32793'\n",
      "Traceback (most recent call last):\n",
      "  File \"/srv/conda/envs/notebook/lib/python3.7/site-packages/distributed/core.py\", line 403, in handle_comm\n",
      "    result = await result\n",
      "  File \"/srv/conda/envs/notebook/lib/python3.7/site-packages/distributed/scheduler.py\", line 1524, in add_worker\n",
      "    await self.handle_worker(comm=comm, worker=address)\n",
      "  File \"/srv/conda/envs/notebook/lib/python3.7/site-packages/distributed/scheduler.py\", line 2437, in handle_worker\n",
      "    worker_comm = self.stream_comms[worker]\n",
      "KeyError: 'tcp://10.32.53.2:32793'\n",
      "distributed.utils - ERROR - 'tcp://10.32.53.3:33297'\n",
      "Traceback (most recent call last):\n",
      "  File \"/srv/conda/envs/notebook/lib/python3.7/site-packages/distributed/utils.py\", line 662, in log_errors\n",
      "    yield\n",
      "  File \"/srv/conda/envs/notebook/lib/python3.7/site-packages/distributed/scheduler.py\", line 1524, in add_worker\n",
      "    await self.handle_worker(comm=comm, worker=address)\n",
      "  File \"/srv/conda/envs/notebook/lib/python3.7/site-packages/distributed/scheduler.py\", line 2437, in handle_worker\n",
      "    worker_comm = self.stream_comms[worker]\n",
      "KeyError: 'tcp://10.32.53.3:33297'\n",
      "distributed.core - ERROR - 'tcp://10.32.53.3:33297'\n",
      "Traceback (most recent call last):\n",
      "  File \"/srv/conda/envs/notebook/lib/python3.7/site-packages/distributed/core.py\", line 403, in handle_comm\n",
      "    result = await result\n",
      "  File \"/srv/conda/envs/notebook/lib/python3.7/site-packages/distributed/scheduler.py\", line 1524, in add_worker\n",
      "    await self.handle_worker(comm=comm, worker=address)\n",
      "  File \"/srv/conda/envs/notebook/lib/python3.7/site-packages/distributed/scheduler.py\", line 2437, in handle_worker\n",
      "    worker_comm = self.stream_comms[worker]\n",
      "KeyError: 'tcp://10.32.53.3:33297'\n"
     ]
    },
    {
     "data": {
      "text/plain": [
       "<xarray.DataArray 'histogram_so_thetao' (time: 14400)>\n",
       "array([1.36006647e+16, 1.35733860e+16, 1.35489032e+16, ...,\n",
       "       1.40067881e+16, 1.40811673e+16, 1.40635541e+16])\n",
       "Coordinates:\n",
       "  * time     (time) object 0001-01-15 12:59:59 ... 1200-12-15 12:00:00"
      ]
     },
     "execution_count": 35,
     "metadata": {},
     "output_type": "execute_result"
    }
   ],
   "source": [
    "surfwater_CESM2.load()"
   ]
  },
  {
   "cell_type": "code",
   "execution_count": 36,
   "metadata": {},
   "outputs": [
    {
     "data": {
      "text/plain": [
       "[<matplotlib.collections.PolyCollection at 0x7fb23a714278>,\n",
       " <matplotlib.collections.PolyCollection at 0x7fb239c90630>,\n",
       " <matplotlib.collections.PolyCollection at 0x7fb24d282b38>]"
      ]
     },
     "execution_count": 36,
     "metadata": {},
     "output_type": "execute_result"
    },
    {
     "data": {
      "image/png": "[encoded data removed]",
      "text/plain": [
       "<Figure size 432x288 with 1 Axes>"
      ]
     },
     "metadata": {
      "needs_background": "light"
     },
     "output_type": "display_data"
    }
   ],
   "source": [
    "import matplotlib.pyplot as plt\n",
    "plt.plot([],[],color='b', label='deep', linewidth=5)\n",
    "plt.plot([],[],color='g', label='intermediate', linewidth=5)\n",
    "plt.plot([],[],color='r', label='surface', linewidth=5)\n",
    "\n",
    "plt.stackplot(deepwater_CESM2['time'].values, deepwater_CESM2,\n",
    "                                 intwater_CESM2,\n",
    "                                 surfwater_CESM2,\n",
    "                                 colors=['b','g','r'])\n"
   ]
  },
  {
   "cell_type": "code",
   "execution_count": 37,
   "metadata": {},
   "outputs": [],
   "source": [
    "ds_types_CESM_piC = xr.Dataset()\n",
    "ds_types_CESM_piC['vol_deep'] = deepwater_CESM2\n",
    "ds_types_CESM_piC['vol_interm'] = intwater_CESM2\n",
    "ds_types_CESM_piC['vol_surface'] = surfwater_CESM2\n",
    "ds_types_CESM_piC.to_netcdf('../data/volume_waters_atl_CESM2_piC.nc')"
   ]
  },
  {
   "cell_type": "code",
   "execution_count": 40,
   "metadata": {},
   "outputs": [],
   "source": [
    "# CM4\n",
    "deepwater_CM4 = hTS_CM4.sel(thetao_bin=slice(0,5)).sum(dim=['so_bin', 'thetao_bin'])\n",
    "intwater_CM4 = hTS_CM4.sel(thetao_bin=slice(5,15)).sum(dim=['so_bin', 'thetao_bin'])\n",
    "surfwater_CM4 = hTS_CM4.sel(thetao_bin=slice(15,40)).sum(dim=['so_bin', 'thetao_bin'])"
   ]
  },
  {
   "cell_type": "code",
   "execution_count": 41,
   "metadata": {},
   "outputs": [
    {
     "name": "stderr",
     "output_type": "stream",
     "text": [
      "distributed.scheduler - ERROR - Workers don't have promised key: ['tcp://10.32.84.29:42147'], ('sum-aggregate-52f2c6b030a1ea883702fae585f74e96', 200)\n",
      "NoneType: None\n",
      "distributed.scheduler - ERROR - Workers don't have promised key: ['tcp://10.32.71.25:43125'], ('sum-aggregate-52f2c6b030a1ea883702fae585f74e96', 146)\n",
      "NoneType: None\n",
      "distributed.scheduler - ERROR - Workers don't have promised key: ['tcp://10.32.71.25:43125'], ('sum-aggregate-52f2c6b030a1ea883702fae585f74e96', 156)\n",
      "NoneType: None\n",
      "distributed.scheduler - ERROR - Workers don't have promised key: ['tcp://10.32.84.29:42147'], ('sum-aggregate-52f2c6b030a1ea883702fae585f74e96', 61)\n",
      "NoneType: None\n",
      "distributed.scheduler - ERROR - Workers don't have promised key: ['tcp://10.32.71.25:43125'], ('sum-aggregate-52f2c6b030a1ea883702fae585f74e96', 213)\n",
      "NoneType: None\n",
      "distributed.scheduler - ERROR - Workers don't have promised key: ['tcp://10.32.71.25:43125'], ('sum-aggregate-52f2c6b030a1ea883702fae585f74e96', 120)\n",
      "NoneType: None\n",
      "distributed.scheduler - ERROR - Workers don't have promised key: ['tcp://10.32.84.29:42147'], ('sum-aggregate-52f2c6b030a1ea883702fae585f74e96', 239)\n",
      "NoneType: None\n",
      "distributed.scheduler - ERROR - Workers don't have promised key: ['tcp://10.32.84.29:42147'], ('sum-aggregate-52f2c6b030a1ea883702fae585f74e96', 226)\n",
      "NoneType: None\n",
      "distributed.scheduler - ERROR - Workers don't have promised key: ['tcp://10.32.71.25:43125'], ('sum-aggregate-52f2c6b030a1ea883702fae585f74e96', 125)\n",
      "NoneType: None\n",
      "distributed.scheduler - ERROR - Workers don't have promised key: ['tcp://10.32.84.29:42147'], ('sum-aggregate-52f2c6b030a1ea883702fae585f74e96', 172)\n",
      "NoneType: None\n",
      "distributed.scheduler - ERROR - Workers don't have promised key: ['tcp://10.32.71.25:43125'], ('sum-aggregate-52f2c6b030a1ea883702fae585f74e96', 12)\n",
      "NoneType: None\n",
      "distributed.scheduler - ERROR - Workers don't have promised key: ['tcp://10.32.71.25:43125'], ('sum-aggregate-52f2c6b030a1ea883702fae585f74e96', 204)\n",
      "NoneType: None\n",
      "distributed.scheduler - ERROR - Workers don't have promised key: ['tcp://10.32.84.29:42147'], ('sum-aggregate-52f2c6b030a1ea883702fae585f74e96', 179)\n",
      "NoneType: None\n",
      "distributed.scheduler - ERROR - Workers don't have promised key: ['tcp://10.32.84.29:42147'], ('sum-aggregate-52f2c6b030a1ea883702fae585f74e96', 50)\n",
      "NoneType: None\n",
      "distributed.scheduler - ERROR - Workers don't have promised key: ['tcp://10.32.84.29:42147'], ('sum-aggregate-52f2c6b030a1ea883702fae585f74e96', 198)\n",
      "NoneType: None\n",
      "distributed.scheduler - ERROR - Workers don't have promised key: ['tcp://10.32.71.25:43125'], ('sum-aggregate-52f2c6b030a1ea883702fae585f74e96', 22)\n",
      "NoneType: None\n",
      "distributed.scheduler - ERROR - Workers don't have promised key: ['tcp://10.32.71.25:43125'], ('sum-aggregate-52f2c6b030a1ea883702fae585f74e96', 92)\n",
      "NoneType: None\n",
      "distributed.scheduler - ERROR - Workers don't have promised key: ['tcp://10.32.71.25:43125'], ('sum-aggregate-52f2c6b030a1ea883702fae585f74e96', 215)\n",
      "NoneType: None\n",
      "distributed.scheduler - ERROR - Workers don't have promised key: ['tcp://10.32.71.25:43125'], ('sum-aggregate-52f2c6b030a1ea883702fae585f74e96', 115)\n",
      "NoneType: None\n",
      "distributed.scheduler - ERROR - Workers don't have promised key: ['tcp://10.32.84.29:42147'], ('sum-aggregate-52f2c6b030a1ea883702fae585f74e96', 211)\n",
      "NoneType: None\n",
      "distributed.scheduler - ERROR - Workers don't have promised key: ['tcp://10.32.71.25:43125'], ('sum-aggregate-52f2c6b030a1ea883702fae585f74e96', 180)\n",
      "NoneType: None\n",
      "distributed.scheduler - ERROR - Workers don't have promised key: ['tcp://10.32.71.25:43125'], ('sum-aggregate-52f2c6b030a1ea883702fae585f74e96', 141)\n",
      "NoneType: None\n",
      "distributed.scheduler - ERROR - Workers don't have promised key: ['tcp://10.32.84.29:42147'], ('sum-aggregate-52f2c6b030a1ea883702fae585f74e96', 9)\n",
      "NoneType: None\n",
      "distributed.scheduler - ERROR - Workers don't have promised key: ['tcp://10.32.84.29:42147'], ('sum-aggregate-52f2c6b030a1ea883702fae585f74e96', 64)\n",
      "NoneType: None\n",
      "distributed.scheduler - ERROR - Workers don't have promised key: ['tcp://10.32.84.29:42147'], ('sum-aggregate-52f2c6b030a1ea883702fae585f74e96', 81)\n",
      "NoneType: None\n",
      "distributed.scheduler - ERROR - Workers don't have promised key: ['tcp://10.32.71.25:43125'], ('sum-aggregate-52f2c6b030a1ea883702fae585f74e96', 36)\n",
      "NoneType: None\n",
      "distributed.scheduler - ERROR - Workers don't have promised key: ['tcp://10.32.84.29:42147'], ('sum-aggregate-52f2c6b030a1ea883702fae585f74e96', 54)\n",
      "NoneType: None\n",
      "distributed.scheduler - ERROR - Workers don't have promised key: ['tcp://10.32.71.25:43125'], ('sum-aggregate-52f2c6b030a1ea883702fae585f74e96', 192)\n",
      "NoneType: None\n",
      "distributed.scheduler - ERROR - Workers don't have promised key: ['tcp://10.32.71.25:43125'], ('sum-aggregate-52f2c6b030a1ea883702fae585f74e96', 73)\n",
      "NoneType: None\n",
      "distributed.scheduler - ERROR - Workers don't have promised key: ['tcp://10.32.71.25:43125'], ('sum-aggregate-52f2c6b030a1ea883702fae585f74e96', 197)\n",
      "NoneType: None\n",
      "distributed.scheduler - ERROR - Workers don't have promised key: ['tcp://10.32.71.25:43125'], ('sum-aggregate-52f2c6b030a1ea883702fae585f74e96', 214)\n",
      "NoneType: None\n",
      "distributed.scheduler - ERROR - Workers don't have promised key: ['tcp://10.32.71.25:43125'], ('sum-aggregate-52f2c6b030a1ea883702fae585f74e96', 35)\n",
      "NoneType: None\n",
      "distributed.scheduler - ERROR - Workers don't have promised key: ['tcp://10.32.71.25:43125'], ('sum-aggregate-52f2c6b030a1ea883702fae585f74e96', 188)\n",
      "NoneType: None\n",
      "distributed.scheduler - ERROR - Workers don't have promised key: ['tcp://10.32.71.25:43125'], ('sum-aggregate-52f2c6b030a1ea883702fae585f74e96', 190)\n",
      "NoneType: None\n",
      "distributed.scheduler - ERROR - Workers don't have promised key: ['tcp://10.32.84.29:42147'], ('sum-aggregate-52f2c6b030a1ea883702fae585f74e96', 85)\n",
      "NoneType: None\n",
      "distributed.scheduler - ERROR - Workers don't have promised key: ['tcp://10.32.71.25:43125'], ('sum-aggregate-52f2c6b030a1ea883702fae585f74e96', 29)\n",
      "NoneType: None\n",
      "distributed.scheduler - ERROR - Workers don't have promised key: ['tcp://10.32.71.25:43125'], ('sum-aggregate-52f2c6b030a1ea883702fae585f74e96', 53)\n",
      "NoneType: None\n",
      "distributed.scheduler - ERROR - Workers don't have promised key: ['tcp://10.32.84.29:42147'], ('sum-aggregate-52f2c6b030a1ea883702fae585f74e96', 217)\n",
      "NoneType: None\n",
      "distributed.scheduler - ERROR - Workers don't have promised key: ['tcp://10.32.84.29:42147'], ('sum-aggregate-52f2c6b030a1ea883702fae585f74e96', 98)\n",
      "NoneType: None\n",
      "distributed.scheduler - ERROR - Workers don't have promised key: ['tcp://10.32.84.29:42147'], ('sum-aggregate-52f2c6b030a1ea883702fae585f74e96', 76)\n",
      "NoneType: None\n",
      "distributed.scheduler - ERROR - Workers don't have promised key: ['tcp://10.32.84.29:42147'], ('sum-aggregate-52f2c6b030a1ea883702fae585f74e96', 7)\n",
      "NoneType: None\n",
      "distributed.scheduler - ERROR - Workers don't have promised key: ['tcp://10.32.71.25:43125'], ('sum-aggregate-52f2c6b030a1ea883702fae585f74e96', 38)\n",
      "NoneType: None\n",
      "distributed.scheduler - ERROR - Workers don't have promised key: ['tcp://10.32.84.29:42147'], ('sum-aggregate-52f2c6b030a1ea883702fae585f74e96', 155)\n",
      "NoneType: None\n",
      "distributed.scheduler - ERROR - Workers don't have promised key: ['tcp://10.32.84.29:42147'], ('sum-aggregate-52f2c6b030a1ea883702fae585f74e96', 103)\n",
      "NoneType: None\n",
      "distributed.scheduler - ERROR - Workers don't have promised key: ['tcp://10.32.84.29:42147'], ('sum-aggregate-52f2c6b030a1ea883702fae585f74e96', 59)\n",
      "NoneType: None\n",
      "distributed.scheduler - ERROR - Workers don't have promised key: ['tcp://10.32.71.25:43125'], ('sum-aggregate-52f2c6b030a1ea883702fae585f74e96', 87)\n",
      "NoneType: None\n",
      "distributed.scheduler - ERROR - Workers don't have promised key: ['tcp://10.32.71.25:43125'], ('sum-aggregate-52f2c6b030a1ea883702fae585f74e96', 116)\n",
      "NoneType: None\n",
      "distributed.scheduler - ERROR - Workers don't have promised key: ['tcp://10.32.71.25:43125'], ('sum-aggregate-52f2c6b030a1ea883702fae585f74e96', 37)\n",
      "NoneType: None\n",
      "distributed.scheduler - ERROR - Workers don't have promised key: ['tcp://10.32.71.25:43125'], ('sum-aggregate-52f2c6b030a1ea883702fae585f74e96', 159)\n",
      "NoneType: None\n",
      "distributed.scheduler - ERROR - Workers don't have promised key: ['tcp://10.32.71.25:43125'], ('sum-aggregate-52f2c6b030a1ea883702fae585f74e96', 45)\n",
      "NoneType: None\n",
      "distributed.scheduler - ERROR - Workers don't have promised key: ['tcp://10.32.71.25:43125'], ('sum-aggregate-52f2c6b030a1ea883702fae585f74e96', 18)\n",
      "NoneType: None\n",
      "distributed.scheduler - ERROR - Workers don't have promised key: ['tcp://10.32.71.25:43125'], ('sum-aggregate-52f2c6b030a1ea883702fae585f74e96', 195)\n",
      "NoneType: None\n",
      "distributed.scheduler - ERROR - Workers don't have promised key: ['tcp://10.32.71.25:43125'], ('sum-aggregate-52f2c6b030a1ea883702fae585f74e96', 1)\n",
      "NoneType: None\n",
      "distributed.scheduler - ERROR - Workers don't have promised key: ['tcp://10.32.71.25:43125'], ('sum-aggregate-52f2c6b030a1ea883702fae585f74e96', 236)\n",
      "NoneType: None\n",
      "distributed.scheduler - ERROR - Workers don't have promised key: ['tcp://10.32.84.29:42147'], ('sum-aggregate-52f2c6b030a1ea883702fae585f74e96', 148)\n",
      "NoneType: None\n",
      "distributed.scheduler - ERROR - Workers don't have promised key: ['tcp://10.32.84.29:42147'], ('sum-aggregate-52f2c6b030a1ea883702fae585f74e96', 123)\n",
      "NoneType: None\n",
      "distributed.scheduler - ERROR - Workers don't have promised key: ['tcp://10.32.84.29:42147'], ('sum-aggregate-52f2c6b030a1ea883702fae585f74e96', 171)\n",
      "NoneType: None\n",
      "distributed.scheduler - ERROR - Workers don't have promised key: ['tcp://10.32.84.29:42147'], ('sum-aggregate-52f2c6b030a1ea883702fae585f74e96', 221)\n",
      "NoneType: None\n",
      "distributed.scheduler - ERROR - Workers don't have promised key: ['tcp://10.32.84.29:42147'], ('sum-aggregate-52f2c6b030a1ea883702fae585f74e96', 99)\n",
      "NoneType: None\n",
      "distributed.scheduler - ERROR - Workers don't have promised key: ['tcp://10.32.71.25:43125'], ('sum-aggregate-52f2c6b030a1ea883702fae585f74e96', 203)\n",
      "NoneType: None\n",
      "distributed.scheduler - ERROR - Workers don't have promised key: ['tcp://10.32.84.29:42147'], ('sum-aggregate-52f2c6b030a1ea883702fae585f74e96', 144)\n",
      "NoneType: None\n",
      "distributed.scheduler - ERROR - Workers don't have promised key: ['tcp://10.32.84.29:42147'], ('sum-aggregate-52f2c6b030a1ea883702fae585f74e96', 207)\n",
      "NoneType: None\n",
      "distributed.scheduler - ERROR - Workers don't have promised key: ['tcp://10.32.71.25:43125'], ('sum-aggregate-52f2c6b030a1ea883702fae585f74e96', 110)\n",
      "NoneType: None\n",
      "distributed.scheduler - ERROR - Workers don't have promised key: ['tcp://10.32.71.25:43125'], ('sum-aggregate-52f2c6b030a1ea883702fae585f74e96', 132)\n",
      "NoneType: None\n",
      "distributed.scheduler - ERROR - Workers don't have promised key: ['tcp://10.32.84.29:42147'], ('sum-aggregate-52f2c6b030a1ea883702fae585f74e96', 232)\n",
      "NoneType: None\n",
      "distributed.scheduler - ERROR - Workers don't have promised key: ['tcp://10.32.84.29:42147'], ('sum-aggregate-52f2c6b030a1ea883702fae585f74e96', 3)\n",
      "NoneType: None\n",
      "distributed.scheduler - ERROR - Workers don't have promised key: ['tcp://10.32.71.25:43125'], ('sum-aggregate-52f2c6b030a1ea883702fae585f74e96', 139)\n",
      "NoneType: None\n",
      "distributed.scheduler - ERROR - Workers don't have promised key: ['tcp://10.32.84.29:42147'], ('sum-aggregate-52f2c6b030a1ea883702fae585f74e96', 78)\n",
      "NoneType: None\n",
      "distributed.scheduler - ERROR - Workers don't have promised key: ['tcp://10.32.84.29:42147'], ('sum-aggregate-52f2c6b030a1ea883702fae585f74e96', 201)\n",
      "NoneType: None\n",
      "distributed.scheduler - ERROR - Workers don't have promised key: ['tcp://10.32.71.25:43125'], ('sum-aggregate-52f2c6b030a1ea883702fae585f74e96', 56)\n",
      "NoneType: None\n",
      "distributed.scheduler - ERROR - Workers don't have promised key: ['tcp://10.32.71.25:43125'], ('sum-aggregate-52f2c6b030a1ea883702fae585f74e96', 230)\n",
      "NoneType: None\n",
      "distributed.scheduler - ERROR - Workers don't have promised key: ['tcp://10.32.71.25:43125'], ('sum-aggregate-52f2c6b030a1ea883702fae585f74e96', 145)\n",
      "NoneType: None\n",
      "distributed.scheduler - ERROR - Workers don't have promised key: ['tcp://10.32.84.29:42147'], ('sum-aggregate-52f2c6b030a1ea883702fae585f74e96', 117)\n",
      "NoneType: None\n",
      "distributed.scheduler - ERROR - Workers don't have promised key: ['tcp://10.32.71.25:43125'], ('sum-aggregate-52f2c6b030a1ea883702fae585f74e96', 105)\n",
      "NoneType: None\n",
      "distributed.scheduler - ERROR - Workers don't have promised key: ['tcp://10.32.84.29:42147'], ('sum-aggregate-52f2c6b030a1ea883702fae585f74e96', 94)\n",
      "NoneType: None\n",
      "distributed.scheduler - ERROR - Workers don't have promised key: ['tcp://10.32.71.25:43125'], ('sum-aggregate-52f2c6b030a1ea883702fae585f74e96', 8)\n",
      "NoneType: None\n",
      "distributed.scheduler - ERROR - Workers don't have promised key: ['tcp://10.32.84.29:42147'], ('sum-aggregate-52f2c6b030a1ea883702fae585f74e96', 68)\n",
      "NoneType: None\n",
      "distributed.scheduler - ERROR - Workers don't have promised key: ['tcp://10.32.84.29:42147'], ('sum-aggregate-52f2c6b030a1ea883702fae585f74e96', 75)\n",
      "NoneType: None\n",
      "distributed.scheduler - ERROR - Workers don't have promised key: ['tcp://10.32.84.29:42147'], ('sum-aggregate-52f2c6b030a1ea883702fae585f74e96', 166)\n",
      "NoneType: None\n",
      "distributed.scheduler - ERROR - Workers don't have promised key: ['tcp://10.32.71.25:43125'], ('sum-aggregate-52f2c6b030a1ea883702fae585f74e96', 163)\n",
      "NoneType: None\n",
      "distributed.scheduler - ERROR - Workers don't have promised key: ['tcp://10.32.71.25:43125'], ('sum-aggregate-52f2c6b030a1ea883702fae585f74e96', 19)\n",
      "NoneType: None\n",
      "distributed.scheduler - ERROR - Workers don't have promised key: ['tcp://10.32.84.29:42147'], ('sum-aggregate-52f2c6b030a1ea883702fae585f74e96', 91)\n",
      "NoneType: None\n",
      "distributed.scheduler - ERROR - Workers don't have promised key: ['tcp://10.32.71.25:43125'], ('sum-aggregate-52f2c6b030a1ea883702fae585f74e96', 41)\n",
      "NoneType: None\n",
      "distributed.scheduler - ERROR - Workers don't have promised key: ['tcp://10.32.71.25:43125'], ('sum-aggregate-52f2c6b030a1ea883702fae585f74e96', 118)\n",
      "NoneType: None\n",
      "distributed.scheduler - ERROR - Workers don't have promised key: ['tcp://10.32.84.29:42147'], ('sum-aggregate-52f2c6b030a1ea883702fae585f74e96', 177)\n",
      "NoneType: None\n",
      "distributed.scheduler - ERROR - Workers don't have promised key: ['tcp://10.32.71.25:43125'], ('sum-aggregate-52f2c6b030a1ea883702fae585f74e96', 135)\n",
      "NoneType: None\n",
      "distributed.scheduler - ERROR - Workers don't have promised key: ['tcp://10.32.71.25:43125'], ('sum-aggregate-52f2c6b030a1ea883702fae585f74e96', 55)\n",
      "NoneType: None\n",
      "distributed.client - WARNING - Couldn't gather 87 keys, rescheduling {\"('sum-aggregate-52f2c6b030a1ea883702fae585f74e96', 200)\": ('tcp://10.32.84.29:42147',), \"('sum-aggregate-52f2c6b030a1ea883702fae585f74e96', 146)\": ('tcp://10.32.71.25:43125',), \"('sum-aggregate-52f2c6b030a1ea883702fae585f74e96', 156)\": ('tcp://10.32.71.25:43125',), \"('sum-aggregate-52f2c6b030a1ea883702fae585f74e96', 61)\": ('tcp://10.32.84.29:42147',), \"('sum-aggregate-52f2c6b030a1ea883702fae585f74e96', 213)\": ('tcp://10.32.71.25:43125',), \"('sum-aggregate-52f2c6b030a1ea883702fae585f74e96', 120)\": ('tcp://10.32.71.25:43125',), \"('sum-aggregate-52f2c6b030a1ea883702fae585f74e96', 239)\": ('tcp://10.32.84.29:42147',), \"('sum-aggregate-52f2c6b030a1ea883702fae585f74e96', 226)\": ('tcp://10.32.84.29:42147',), \"('sum-aggregate-52f2c6b030a1ea883702fae585f74e96', 125)\": ('tcp://10.32.71.25:43125',), \"('sum-aggregate-52f2c6b030a1ea883702fae585f74e96', 172)\": ('tcp://10.32.84.29:42147',), \"('sum-aggregate-52f2c6b030a1ea883702fae585f74e96', 12)\": ('tcp://10.32.71.25:43125',), \"('sum-aggregate-52f2c6b030a1ea883702fae585f74e96', 204)\": ('tcp://10.32.71.25:43125',), \"('sum-aggregate-52f2c6b030a1ea883702fae585f74e96', 179)\": ('tcp://10.32.84.29:42147',), \"('sum-aggregate-52f2c6b030a1ea883702fae585f74e96', 50)\": ('tcp://10.32.84.29:42147',), \"('sum-aggregate-52f2c6b030a1ea883702fae585f74e96', 198)\": ('tcp://10.32.84.29:42147',), \"('sum-aggregate-52f2c6b030a1ea883702fae585f74e96', 22)\": ('tcp://10.32.71.25:43125',), \"('sum-aggregate-52f2c6b030a1ea883702fae585f74e96', 92)\": ('tcp://10.32.71.25:43125',), \"('sum-aggregate-52f2c6b030a1ea883702fae585f74e96', 215)\": ('tcp://10.32.71.25:43125',), \"('sum-aggregate-52f2c6b030a1ea883702fae585f74e96', 115)\": ('tcp://10.32.71.25:43125',), \"('sum-aggregate-52f2c6b030a1ea883702fae585f74e96', 211)\": ('tcp://10.32.84.29:42147',), \"('sum-aggregate-52f2c6b030a1ea883702fae585f74e96', 180)\": ('tcp://10.32.71.25:43125',), \"('sum-aggregate-52f2c6b030a1ea883702fae585f74e96', 141)\": ('tcp://10.32.71.25:43125',), \"('sum-aggregate-52f2c6b030a1ea883702fae585f74e96', 9)\": ('tcp://10.32.84.29:42147',), \"('sum-aggregate-52f2c6b030a1ea883702fae585f74e96', 64)\": ('tcp://10.32.84.29:42147',), \"('sum-aggregate-52f2c6b030a1ea883702fae585f74e96', 81)\": ('tcp://10.32.84.29:42147',), \"('sum-aggregate-52f2c6b030a1ea883702fae585f74e96', 36)\": ('tcp://10.32.71.25:43125',), \"('sum-aggregate-52f2c6b030a1ea883702fae585f74e96', 54)\": ('tcp://10.32.84.29:42147',), \"('sum-aggregate-52f2c6b030a1ea883702fae585f74e96', 192)\": ('tcp://10.32.71.25:43125',), \"('sum-aggregate-52f2c6b030a1ea883702fae585f74e96', 73)\": ('tcp://10.32.71.25:43125',), \"('sum-aggregate-52f2c6b030a1ea883702fae585f74e96', 197)\": ('tcp://10.32.71.25:43125',), \"('sum-aggregate-52f2c6b030a1ea883702fae585f74e96', 214)\": ('tcp://10.32.71.25:43125',), \"('sum-aggregate-52f2c6b030a1ea883702fae585f74e96', 35)\": ('tcp://10.32.71.25:43125',), \"('sum-aggregate-52f2c6b030a1ea883702fae585f74e96', 188)\": ('tcp://10.32.71.25:43125',), \"('sum-aggregate-52f2c6b030a1ea883702fae585f74e96', 190)\": ('tcp://10.32.71.25:43125',), \"('sum-aggregate-52f2c6b030a1ea883702fae585f74e96', 85)\": ('tcp://10.32.84.29:42147',), \"('sum-aggregate-52f2c6b030a1ea883702fae585f74e96', 29)\": ('tcp://10.32.71.25:43125',), \"('sum-aggregate-52f2c6b030a1ea883702fae585f74e96', 53)\": ('tcp://10.32.71.25:43125',), \"('sum-aggregate-52f2c6b030a1ea883702fae585f74e96', 217)\": ('tcp://10.32.84.29:42147',), \"('sum-aggregate-52f2c6b030a1ea883702fae585f74e96', 98)\": ('tcp://10.32.84.29:42147',), \"('sum-aggregate-52f2c6b030a1ea883702fae585f74e96', 76)\": ('tcp://10.32.84.29:42147',), \"('sum-aggregate-52f2c6b030a1ea883702fae585f74e96', 7)\": ('tcp://10.32.84.29:42147',), \"('sum-aggregate-52f2c6b030a1ea883702fae585f74e96', 38)\": ('tcp://10.32.71.25:43125',), \"('sum-aggregate-52f2c6b030a1ea883702fae585f74e96', 155)\": ('tcp://10.32.84.29:42147',), \"('sum-aggregate-52f2c6b030a1ea883702fae585f74e96', 103)\": ('tcp://10.32.84.29:42147',), \"('sum-aggregate-52f2c6b030a1ea883702fae585f74e96', 59)\": ('tcp://10.32.84.29:42147',), \"('sum-aggregate-52f2c6b030a1ea883702fae585f74e96', 87)\": ('tcp://10.32.71.25:43125',), \"('sum-aggregate-52f2c6b030a1ea883702fae585f74e96', 116)\": ('tcp://10.32.71.25:43125',), \"('sum-aggregate-52f2c6b030a1ea883702fae585f74e96', 37)\": ('tcp://10.32.71.25:43125',), \"('sum-aggregate-52f2c6b030a1ea883702fae585f74e96', 159)\": ('tcp://10.32.71.25:43125',), \"('sum-aggregate-52f2c6b030a1ea883702fae585f74e96', 45)\": ('tcp://10.32.71.25:43125',), \"('sum-aggregate-52f2c6b030a1ea883702fae585f74e96', 18)\": ('tcp://10.32.71.25:43125',), \"('sum-aggregate-52f2c6b030a1ea883702fae585f74e96', 195)\": ('tcp://10.32.71.25:43125',), \"('sum-aggregate-52f2c6b030a1ea883702fae585f74e96', 1)\": ('tcp://10.32.71.25:43125',), \"('sum-aggregate-52f2c6b030a1ea883702fae585f74e96', 236)\": ('tcp://10.32.71.25:43125',), \"('sum-aggregate-52f2c6b030a1ea883702fae585f74e96', 148)\": ('tcp://10.32.84.29:42147',), \"('sum-aggregate-52f2c6b030a1ea883702fae585f74e96', 123)\": ('tcp://10.32.84.29:42147',), \"('sum-aggregate-52f2c6b030a1ea883702fae585f74e96', 171)\": ('tcp://10.32.84.29:42147',), \"('sum-aggregate-52f2c6b030a1ea883702fae585f74e96', 221)\": ('tcp://10.32.84.29:42147',), \"('sum-aggregate-52f2c6b030a1ea883702fae585f74e96', 99)\": ('tcp://10.32.84.29:42147',), \"('sum-aggregate-52f2c6b030a1ea883702fae585f74e96', 203)\": ('tcp://10.32.71.25:43125',), \"('sum-aggregate-52f2c6b030a1ea883702fae585f74e96', 144)\": ('tcp://10.32.84.29:42147',), \"('sum-aggregate-52f2c6b030a1ea883702fae585f74e96', 207)\": ('tcp://10.32.84.29:42147',), \"('sum-aggregate-52f2c6b030a1ea883702fae585f74e96', 110)\": ('tcp://10.32.71.25:43125',), \"('sum-aggregate-52f2c6b030a1ea883702fae585f74e96', 132)\": ('tcp://10.32.71.25:43125',), \"('sum-aggregate-52f2c6b030a1ea883702fae585f74e96', 232)\": ('tcp://10.32.84.29:42147',), \"('sum-aggregate-52f2c6b030a1ea883702fae585f74e96', 3)\": ('tcp://10.32.84.29:42147',), \"('sum-aggregate-52f2c6b030a1ea883702fae585f74e96', 139)\": ('tcp://10.32.71.25:43125',), \"('sum-aggregate-52f2c6b030a1ea883702fae585f74e96', 78)\": ('tcp://10.32.84.29:42147',), \"('sum-aggregate-52f2c6b030a1ea883702fae585f74e96', 201)\": ('tcp://10.32.84.29:42147',), \"('sum-aggregate-52f2c6b030a1ea883702fae585f74e96', 56)\": ('tcp://10.32.71.25:43125',), \"('sum-aggregate-52f2c6b030a1ea883702fae585f74e96', 230)\": ('tcp://10.32.71.25:43125',), \"('sum-aggregate-52f2c6b030a1ea883702fae585f74e96', 145)\": ('tcp://10.32.71.25:43125',), \"('sum-aggregate-52f2c6b030a1ea883702fae585f74e96', 117)\": ('tcp://10.32.84.29:42147',), \"('sum-aggregate-52f2c6b030a1ea883702fae585f74e96', 105)\": ('tcp://10.32.71.25:43125',), \"('sum-aggregate-52f2c6b030a1ea883702fae585f74e96', 94)\": ('tcp://10.32.84.29:42147',), \"('sum-aggregate-52f2c6b030a1ea883702fae585f74e96', 8)\": ('tcp://10.32.71.25:43125',), \"('sum-aggregate-52f2c6b030a1ea883702fae585f74e96', 68)\": ('tcp://10.32.84.29:42147',), \"('sum-aggregate-52f2c6b030a1ea883702fae585f74e96', 75)\": ('tcp://10.32.84.29:42147',), \"('sum-aggregate-52f2c6b030a1ea883702fae585f74e96', 166)\": ('tcp://10.32.84.29:42147',), \"('sum-aggregate-52f2c6b030a1ea883702fae585f74e96', 163)\": ('tcp://10.32.71.25:43125',), \"('sum-aggregate-52f2c6b030a1ea883702fae585f74e96', 19)\": ('tcp://10.32.71.25:43125',), \"('sum-aggregate-52f2c6b030a1ea883702fae585f74e96', 91)\": ('tcp://10.32.84.29:42147',), \"('sum-aggregate-52f2c6b030a1ea883702fae585f74e96', 41)\": ('tcp://10.32.71.25:43125',), \"('sum-aggregate-52f2c6b030a1ea883702fae585f74e96', 118)\": ('tcp://10.32.71.25:43125',), \"('sum-aggregate-52f2c6b030a1ea883702fae585f74e96', 177)\": ('tcp://10.32.84.29:42147',), \"('sum-aggregate-52f2c6b030a1ea883702fae585f74e96', 135)\": ('tcp://10.32.71.25:43125',), \"('sum-aggregate-52f2c6b030a1ea883702fae585f74e96', 55)\": ('tcp://10.32.71.25:43125',)}\n"
     ]
    },
    {
     "data": {
      "text/plain": [
       "<xarray.DataArray 'histogram_so_thetao' (time: 6000)>\n",
       "array([2.86948652e+17, 2.87151999e+17, 2.87107974e+17, ...,\n",
       "       2.88304088e+17, 2.88247807e+17, 2.88265690e+17])\n",
       "Coordinates:\n",
       "  * time     (time) object 0151-01-16 12:00:00 ... 0650-12-16 12:00:00"
      ]
     },
     "execution_count": 41,
     "metadata": {},
     "output_type": "execute_result"
    }
   ],
   "source": [
    "deepwater_CM4.load()"
   ]
  },
  {
   "cell_type": "code",
   "execution_count": 42,
   "metadata": {},
   "outputs": [
    {
     "data": {
      "text/plain": [
       "<xarray.DataArray 'histogram_so_thetao' (time: 6000)>\n",
       "array([5.04623361e+16, 5.03792531e+16, 5.04464074e+16, ...,\n",
       "       5.75030800e+16, 5.75345277e+16, 5.75407339e+16])\n",
       "Coordinates:\n",
       "  * time     (time) object 0151-01-16 12:00:00 ... 0650-12-16 12:00:00"
      ]
     },
     "execution_count": 42,
     "metadata": {},
     "output_type": "execute_result"
    }
   ],
   "source": [
    "intwater_CM4.load()"
   ]
  },
  {
   "cell_type": "code",
   "execution_count": 43,
   "metadata": {},
   "outputs": [
    {
     "data": {
      "text/plain": [
       "<xarray.DataArray 'histogram_so_thetao' (time: 6000)>\n",
       "array([8.91010822e+15, 8.89712619e+15, 8.87120453e+15, ...,\n",
       "       8.92568473e+15, 8.98767578e+15, 9.01894834e+15])\n",
       "Coordinates:\n",
       "  * time     (time) object 0151-01-16 12:00:00 ... 0650-12-16 12:00:00"
      ]
     },
     "execution_count": 43,
     "metadata": {},
     "output_type": "execute_result"
    }
   ],
   "source": [
    "surfwater_CM4.load()"
   ]
  },
  {
   "cell_type": "code",
   "execution_count": 44,
   "metadata": {},
   "outputs": [
    {
     "data": {
      "text/plain": [
       "[<matplotlib.collections.PolyCollection at 0x7fb24d34d4a8>,\n",
       " <matplotlib.collections.PolyCollection at 0x7fb23d741240>,\n",
       " <matplotlib.collections.PolyCollection at 0x7fb2109f2160>]"
      ]
     },
     "execution_count": 44,
     "metadata": {},
     "output_type": "execute_result"
    },
    {
     "data": {
      "image/png": "[encoded data removed]",
      "text/plain": [
       "<Figure size 432x288 with 1 Axes>"
      ]
     },
     "metadata": {
      "needs_background": "light"
     },
     "output_type": "display_data"
    }
   ],
   "source": [
    "plt.plot([],[],color='b', label='deep', linewidth=5)\n",
    "plt.plot([],[],color='g', label='intermediate', linewidth=5)\n",
    "plt.plot([],[],color='r', label='surface', linewidth=5)\n",
    "\n",
    "plt.stackplot(deepwater_CM4['time'].values, deepwater_CM4,\n",
    "                                 intwater_CM4,\n",
    "                                 surfwater_CM4,\n",
    "                                 colors=['b','g','r'])"
   ]
  },
  {
   "cell_type": "code",
   "execution_count": 45,
   "metadata": {},
   "outputs": [],
   "source": [
    "ds_types_CM4_piC = xr.Dataset()\n",
    "ds_types_CM4_piC['vol_deep'] = deepwater_CM4\n",
    "ds_types_CM4_piC['vol_interm'] = intwater_CM4\n",
    "ds_types_CM4_piC['vol_surface'] = surfwater_CM4\n",
    "ds_types_CM4_piC.to_netcdf('../data/volume_waters_atl_CM4_piC.nc')"
   ]
  },
  {
   "cell_type": "markdown",
   "metadata": {},
   "source": [
    "### CESM2 and CM4 - historical"
   ]
  },
  {
   "cell_type": "code",
   "execution_count": 61,
   "metadata": {},
   "outputs": [],
   "source": [
    "CM4_thetao_hist = dict_hist['CMIP.NOAA-GFDL.GFDL-CM4.historical.r1i1p1f1.Omon.thetao.gr']\n",
    "\n",
    "CM4_so_hist = dict_hist['CMIP.NOAA-GFDL.GFDL-CM4.historical.r1i1p1f1.Omon.so.gr']\n",
    "\n",
    "CESM2_so_hist = dict_hist['CMIP.NCAR.CESM2.historical.r1i1p1f1.Omon.so.gr']\n",
    "\n",
    "CESM2_thetao_hist = dict_hist['CMIP.NCAR.CESM2.historical.r1i1p1f1.Omon.thetao.gr']"
   ]
  },
  {
   "cell_type": "code",
   "execution_count": 70,
   "metadata": {},
   "outputs": [],
   "source": [
    "del CM4_so_hist['so'].encoding['chunks']\n",
    "CM4_so_hist = CM4_so_hist.chunk(chunks={'time': 12})"
   ]
  },
  {
   "cell_type": "code",
   "execution_count": 62,
   "metadata": {},
   "outputs": [],
   "source": [
    "hTS_CESM2 = histogram(CESM2_so_hist['so'].where(basincodes_CESM2['basin'] == 2),\n",
    "                      CESM2_thetao_hist['thetao'].where(basincodes_CESM2['basin'] == 2),\n",
    "                      bins=[sbins, tbins],\n",
    "                      dim=('lon', 'lat', 'lev'),\n",
    "                      weights=dVol_cesm2)"
   ]
  },
  {
   "cell_type": "code",
   "execution_count": 63,
   "metadata": {},
   "outputs": [],
   "source": [
    "atl_vol_nadw_CESM2_hist = hTS_CESM2.sel(so_bin=slice(34.8, 35.), \n",
    "                                        thetao_bin=slice(1.5,4)).sum(dim=['so_bin', \n",
    "                                                                          'thetao_bin'])"
   ]
  },
  {
   "cell_type": "code",
   "execution_count": 64,
   "metadata": {},
   "outputs": [
    {
     "data": {
      "text/plain": [
       "<xarray.DataArray 'histogram_so_thetao' (time: 1980)>\n",
       "array([3.87958662e+16, 3.88442496e+16, 3.88503287e+16, ...,\n",
       "       3.92984491e+16, 3.92768388e+16, 3.92665652e+16])\n",
       "Coordinates:\n",
       "  * time     (time) object 1850-01-15 13:00:00 ... 2014-12-15 12:00:00"
      ]
     },
     "execution_count": 64,
     "metadata": {},
     "output_type": "execute_result"
    }
   ],
   "source": [
    "atl_vol_nadw_CESM2_hist.load()"
   ]
  },
  {
   "cell_type": "code",
   "execution_count": 65,
   "metadata": {},
   "outputs": [
    {
     "data": {
      "text/plain": [
       "[<matplotlib.lines.Line2D at 0x7fd591b78748>]"
      ]
     },
     "execution_count": 65,
     "metadata": {},
     "output_type": "execute_result"
    },
    {
     "data": {
      "image/png": "[encoded data removed]",
      "text/plain": [
       "<Figure size 432x288 with 1 Axes>"
      ]
     },
     "metadata": {
      "needs_background": "light"
     },
     "output_type": "display_data"
    }
   ],
   "source": [
    "atl_vol_nadw_CESM2_hist.plot()"
   ]
  },
  {
   "cell_type": "code",
   "execution_count": 118,
   "metadata": {},
   "outputs": [],
   "source": [
    "ds_nadw_CESM2 = xr.Dataset()\n",
    "ds_nadw_CESM2['vol_nadw_atl'] = atl_vol_nadw_CESM2_hist\n",
    "ds_nadw_CESM2.to_netcdf('../data/nadw_CESM2_hist.nc')"
   ]
  },
  {
   "cell_type": "code",
   "execution_count": 71,
   "metadata": {},
   "outputs": [],
   "source": [
    "hTS_CM4 = histogram(CM4_so_hist['so'].where(basincodes_CM4['basin'] == 2),\n",
    "                    CM4_thetao_hist['thetao'].where(basincodes_CM4['basin'] == 2),\n",
    "                    bins=[sbins, tbins],\n",
    "                    dim=('lon', 'lat', 'lev'),\n",
    "                    weights=dVol_cm4)"
   ]
  },
  {
   "cell_type": "code",
   "execution_count": 72,
   "metadata": {},
   "outputs": [],
   "source": [
    "atl_vol_nadw_CM4_hist = hTS_CM4.sel(so_bin=slice(34.8, 35.), \n",
    "                                    thetao_bin=slice(1.5,4)).sum(dim=['so_bin', \n",
    "                                                                      'thetao_bin'])"
   ]
  },
  {
   "cell_type": "code",
   "execution_count": 73,
   "metadata": {},
   "outputs": [
    {
     "data": {
      "text/plain": [
       "<xarray.DataArray 'histogram_so_thetao' (time: 1980)>\n",
       "array([1.10886844e+17, 1.10867087e+17, 1.10880010e+17, ...,\n",
       "       1.02131354e+17, 1.02154836e+17, 1.02342298e+17])\n",
       "Coordinates:\n",
       "  * time     (time) object 1850-01-16 12:00:00 ... 2014-12-16 12:00:00"
      ]
     },
     "execution_count": 73,
     "metadata": {},
     "output_type": "execute_result"
    }
   ],
   "source": [
    "atl_vol_nadw_CM4_hist.load()"
   ]
  },
  {
   "cell_type": "code",
   "execution_count": 74,
   "metadata": {},
   "outputs": [
    {
     "data": {
      "text/plain": [
       "[<matplotlib.lines.Line2D at 0x7fd598c632e8>]"
      ]
     },
     "execution_count": 74,
     "metadata": {},
     "output_type": "execute_result"
    },
    {
     "data": {
      "image/png": "[encoded data removed]",
      "text/plain": [
       "<Figure size 432x288 with 1 Axes>"
      ]
     },
     "metadata": {
      "needs_background": "light"
     },
     "output_type": "display_data"
    }
   ],
   "source": [
    "atl_vol_nadw_CM4_hist.plot()"
   ]
  },
  {
   "cell_type": "code",
   "execution_count": 119,
   "metadata": {},
   "outputs": [],
   "source": [
    "ds_nadw_CM4 = xr.Dataset()\n",
    "ds_nadw_CM4['vol_nadw_atl'] = atl_vol_nadw_CM4_hist\n",
    "ds_nadw_CM4.to_netcdf('../data/nadw_CM4_hist.nc')"
   ]
  },
  {
   "cell_type": "markdown",
   "metadata": {},
   "source": [
    "#### Looking at heat content"
   ]
  },
  {
   "cell_type": "code",
   "execution_count": 85,
   "metadata": {},
   "outputs": [],
   "source": [
    "hTS_CESM2heat = histogram(CESM2_so_hist['so'].where(basincodes_CESM2['basin'] == 2),\n",
    "                          CESM2_thetao_hist['thetao'].where(basincodes_CESM2['basin'] == 2),\n",
    "                          bins=[sbins, tbins],\n",
    "                          dim=('lon', 'lat', 'lev'),\n",
    "                          weights=dVol_cesm2*1035*4180*(273.15 + CESM2_thetao_hist['thetao']))"
   ]
  },
  {
   "cell_type": "code",
   "execution_count": 86,
   "metadata": {},
   "outputs": [],
   "source": [
    "atl_heatc_nadw_CESM2_hist = hTS_CESM2heat.sel(so_bin=slice(34.8, 35.), \n",
    "                                              thetao_bin=slice(1.5,4)).sum(dim=['so_bin', \n",
    "                                                                                'thetao_bin'])"
   ]
  },
  {
   "cell_type": "code",
   "execution_count": 87,
   "metadata": {},
   "outputs": [
    {
     "data": {
      "text/plain": [
       "<xarray.DataArray 'histogram_so_thetao' (time: 1980)>\n",
       "array([4.62204468e+25, 4.62781508e+25, 4.62855964e+25, ...,\n",
       "       4.68182069e+25, 4.67924619e+25, 4.67801003e+25])\n",
       "Coordinates:\n",
       "  * time     (time) object 1850-01-15 13:00:00 ... 2014-12-15 12:00:00"
      ]
     },
     "execution_count": 87,
     "metadata": {},
     "output_type": "execute_result"
    }
   ],
   "source": [
    "atl_heatc_nadw_CESM2_hist.load()"
   ]
  },
  {
   "cell_type": "code",
   "execution_count": 88,
   "metadata": {},
   "outputs": [
    {
     "data": {
      "text/plain": [
       "[<matplotlib.lines.Line2D at 0x7fd594592208>]"
      ]
     },
     "execution_count": 88,
     "metadata": {},
     "output_type": "execute_result"
    },
    {
     "data": {
      "image/png": "[encoded data removed]",
      "text/plain": [
       "<Figure size 432x288 with 1 Axes>"
      ]
     },
     "metadata": {
      "needs_background": "light"
     },
     "output_type": "display_data"
    }
   ],
   "source": [
    "atl_heatc_nadw_CESM2_hist.plot()"
   ]
  },
  {
   "cell_type": "markdown",
   "metadata": {},
   "source": [
    "### CESM2 and CM4 - ssp585"
   ]
  },
  {
   "cell_type": "code",
   "execution_count": 95,
   "metadata": {},
   "outputs": [],
   "source": [
    "CM4_thetao_ssp585 = dict_ssp585['ScenarioMIP.NOAA-GFDL.GFDL-CM4.ssp585.r1i1p1f1.Omon.thetao.gr']\n",
    "\n",
    "CM4_so_ssp585 = dict_ssp585['ScenarioMIP.NOAA-GFDL.GFDL-CM4.ssp585.r1i1p1f1.Omon.so.gr']\n",
    "\n",
    "CESM2_so_ssp585 = dict_ssp585['ScenarioMIP.NCAR.CESM2.ssp585.r2i1p1f1.Omon.so.gr']\n",
    "\n",
    "CESM2_thetao_ssp585 = dict_ssp585['ScenarioMIP.NCAR.CESM2.ssp585.r2i1p1f1.Omon.thetao.gr']"
   ]
  },
  {
   "cell_type": "code",
   "execution_count": 108,
   "metadata": {},
   "outputs": [],
   "source": [
    "hTS_CESM2 = histogram(CESM2_so_ssp585['so'].where(basincodes_CESM2['basin'] == 2),\n",
    "                      CESM2_thetao_ssp585['thetao'].where(basincodes_CESM2['basin'] == 2),\n",
    "                      bins=[sbins, tbins],\n",
    "                      dim=('lon', 'lat', 'lev'),\n",
    "                      weights=dVol_cesm2)"
   ]
  },
  {
   "cell_type": "code",
   "execution_count": 109,
   "metadata": {},
   "outputs": [],
   "source": [
    "atl_vol_nadw_CESM2_ssp585 = hTS_CESM2.sel(so_bin=slice(34.8, 35.), \n",
    "                                          thetao_bin=slice(1.5,4)).sum(dim=['so_bin', \n",
    "                                                                            'thetao_bin'])"
   ]
  },
  {
   "cell_type": "code",
   "execution_count": 110,
   "metadata": {},
   "outputs": [
    {
     "data": {
      "text/plain": [
       "<xarray.DataArray 'histogram_so_thetao' (time: 1032)>\n",
       "array([4.18827641e+16, 4.19116184e+16, 4.19619074e+16, ...,\n",
       "       5.07216677e+16, 5.07058819e+16, 5.07243850e+16])\n",
       "Coordinates:\n",
       "  * time     (time) object 2015-01-15 13:00:00 ... 2100-12-15 12:00:00"
      ]
     },
     "execution_count": 110,
     "metadata": {},
     "output_type": "execute_result"
    }
   ],
   "source": [
    "atl_vol_nadw_CESM2_ssp585.load()"
   ]
  },
  {
   "cell_type": "code",
   "execution_count": 111,
   "metadata": {},
   "outputs": [
    {
     "data": {
      "text/plain": [
       "[<matplotlib.lines.Line2D at 0x7fd592632048>]"
      ]
     },
     "execution_count": 111,
     "metadata": {},
     "output_type": "execute_result"
    },
    {
     "data": {
      "image/png": "[encoded data removed]",
      "text/plain": [
       "<Figure size 432x288 with 1 Axes>"
      ]
     },
     "metadata": {
      "needs_background": "light"
     },
     "output_type": "display_data"
    }
   ],
   "source": [
    "atl_vol_nadw_CESM2_ssp585.plot()"
   ]
  },
  {
   "cell_type": "code",
   "execution_count": 120,
   "metadata": {},
   "outputs": [],
   "source": [
    "ds_nadw_CESM2 = xr.Dataset()\n",
    "ds_nadw_CESM2['vol_nadw_atl'] = atl_vol_nadw_CESM2_ssp585\n",
    "ds_nadw_CESM2.to_netcdf('../data/nadw_CESM2_ssp585.nc')"
   ]
  },
  {
   "cell_type": "code",
   "execution_count": 112,
   "metadata": {},
   "outputs": [],
   "source": [
    "hTS_CM4 = histogram(CM4_so_ssp585['so'].where(basincodes_CM4['basin'] == 2),\n",
    "                    CM4_thetao_ssp585['thetao'].where(basincodes_CM4['basin'] == 2),\n",
    "                    bins=[sbins, tbins],\n",
    "                    dim=('lon', 'lat', 'lev'),\n",
    "                    weights=dVol_cm4)"
   ]
  },
  {
   "cell_type": "code",
   "execution_count": 113,
   "metadata": {},
   "outputs": [],
   "source": [
    "atl_vol_nadw_CM4_ssp585 = hTS_CM4.sel(so_bin=slice(34.8, 35.), \n",
    "                                      thetao_bin=slice(1.5,4)).sum(dim=['so_bin', \n",
    "                                                                        'thetao_bin'])"
   ]
  },
  {
   "cell_type": "code",
   "execution_count": 114,
   "metadata": {},
   "outputs": [
    {
     "data": {
      "text/plain": [
       "<xarray.DataArray 'histogram_so_thetao' (time: 1032)>\n",
       "array([1.02421913e+17, 1.02423927e+17, 1.02388903e+17, ...,\n",
       "       9.94353110e+16, 9.94466279e+16, 9.95704697e+16])\n",
       "Coordinates:\n",
       "  * time     (time) object 2015-01-16 12:00:00 ... 2100-12-16 12:00:00"
      ]
     },
     "execution_count": 114,
     "metadata": {},
     "output_type": "execute_result"
    }
   ],
   "source": [
    "atl_vol_nadw_CM4_ssp585.load()"
   ]
  },
  {
   "cell_type": "code",
   "execution_count": 115,
   "metadata": {},
   "outputs": [
    {
     "data": {
      "text/plain": [
       "[<matplotlib.lines.Line2D at 0x7fd59733f4a8>]"
      ]
     },
     "execution_count": 115,
     "metadata": {},
     "output_type": "execute_result"
    },
    {
     "data": {
      "image/png": "[encoded data removed]",
      "text/plain": [
       "<Figure size 432x288 with 1 Axes>"
      ]
     },
     "metadata": {
      "needs_background": "light"
     },
     "output_type": "display_data"
    }
   ],
   "source": [
    "atl_vol_nadw_CM4_ssp585.plot()"
   ]
  },
  {
   "cell_type": "code",
   "execution_count": 121,
   "metadata": {},
   "outputs": [],
   "source": [
    "ds_nadw_CM4 = xr.Dataset()\n",
    "ds_nadw_CM4['vol_nadw_atl'] = atl_vol_nadw_CM4_ssp585\n",
    "ds_nadw_CM4.to_netcdf('../data/nadw_CM4_ssp585.nc')"
   ]
  },
  {
   "cell_type": "code",
   "execution_count": null,
   "metadata": {},
   "outputs": [],
   "source": []
  },
  {
   "cell_type": "code",
   "execution_count": 129,
   "metadata": {},
   "outputs": [],
   "source": [
    "wgt_thetao_CESM2_piC = (CESM2_thetao_piC['thetao'] * dVol_cesm2)\n",
    "wgt_thetao_CESM2_piC_atl = wgt_thetao_CESM2_piC.where(basincodes_CESM2['basin'] ==2)\n",
    "layer_nadw = wgt_thetao_CESM2_piC_atl.sel(lev=slice(1500,4000))\n",
    "vol_layer = dVol_cesm2.where(basincodes_CESM2['basin'] ==2).sel(lev=slice(1500,4000))\n",
    "ts_layer = layer_nadw.sum(dim=['lon', 'lat', 'lev']) / vol_layer.sum(dim=['lon', 'lat', 'lev'])"
   ]
  },
  {
   "cell_type": "code",
   "execution_count": 130,
   "metadata": {},
   "outputs": [
    {
     "data": {
      "text/plain": [
       "[<matplotlib.lines.Line2D at 0x7fd5a80d7748>]"
      ]
     },
     "execution_count": 130,
     "metadata": {},
     "output_type": "execute_result"
    },
    {
     "data": {
      "image/png": "[encoded data removed]",
      "text/plain": [
       "<Figure size 432x288 with 1 Axes>"
      ]
     },
     "metadata": {
      "needs_background": "light"
     },
     "output_type": "display_data"
    }
   ],
   "source": [
    "ts_layer.plot()"
   ]
  },
  {
   "cell_type": "code",
   "execution_count": 131,
   "metadata": {},
   "outputs": [],
   "source": [
    "wgt_thetao_CM4_piC = (CM4_thetao_piC['thetao'] * dVol_cm4)\n",
    "wgt_thetao_CM4_piC_atl = wgt_thetao_CM4_piC.where(basincodes_CM4['basin'] ==2)\n",
    "layer_nadw = wgt_thetao_CM4_piC_atl.sel(lev=slice(1500,4000))\n",
    "vol_layer = dVol_cm4.where(basincodes_CM4['basin'] ==2).sel(lev=slice(1500,4000))\n",
    "ts_layer = layer_nadw.sum(dim=['lon', 'lat', 'lev']) / vol_layer.sum(dim=['lon', 'lat', 'lev'])"
   ]
  },
  {
   "cell_type": "code",
   "execution_count": 132,
   "metadata": {},
   "outputs": [
    {
     "data": {
      "text/plain": [
       "[<matplotlib.lines.Line2D at 0x7fd59eeb4ef0>]"
      ]
     },
     "execution_count": 132,
     "metadata": {},
     "output_type": "execute_result"
    },
    {
     "data": {
      "image/png": "[encoded data removed]",
      "text/plain": [
       "<Figure size 432x288 with 1 Axes>"
      ]
     },
     "metadata": {
      "needs_background": "light"
     },
     "output_type": "display_data"
    }
   ],
   "source": [
    "ts_layer.plot()"
   ]
  },
  {
   "cell_type": "code",
   "execution_count": null,
   "metadata": {},
   "outputs": [],
   "source": [
    "# do all ocean"
   ]
  },
  {
   "cell_type": "code",
   "execution_count": null,
   "metadata": {},
   "outputs": [],
   "source": []
  }
 ],
 "metadata": {
  "kernelspec": {
   "display_name": "Python 3",
   "language": "python",
   "name": "python3"
  },
  "language_info": {
   "codemirror_mode": {
    "name": "ipython",
    "version": 3
   },
   "file_extension": ".py",
   "mimetype": "text/x-python",
   "name": "python",
   "nbconvert_exporter": "python",
   "pygments_lexer": "ipython3",
   "version": "3.7.3"
  }
 },
 "nbformat": 4,
 "nbformat_minor": 4
}
