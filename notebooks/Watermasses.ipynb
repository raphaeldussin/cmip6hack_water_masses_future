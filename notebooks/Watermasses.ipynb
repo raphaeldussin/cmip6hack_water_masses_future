{
 "cells": [
  {
   "cell_type": "markdown",
   "metadata": {},
   "source": [
    "# Water masses of the future"
   ]
  },
  {
   "cell_type": "code",
   "execution_count": 1,
   "metadata": {},
   "outputs": [],
   "source": [
    "%matplotlib inline"
   ]
  },
  {
   "cell_type": "code",
   "execution_count": 2,
   "metadata": {},
   "outputs": [],
   "source": [
    "import numpy as np\n",
    "import pandas as pd\n",
    "import xarray as xr\n",
    "import gcsfs\n",
    "\n",
    "import warnings\n",
    "warnings.simplefilter(\"ignore\")"
   ]
  },
  {
   "cell_type": "code",
   "execution_count": 3,
   "metadata": {},
   "outputs": [],
   "source": [
    "fs = gcsfs.GCSFileSystem(token='anon', access='read_only')"
   ]
  },
  {
   "cell_type": "code",
   "execution_count": 4,
   "metadata": {},
   "outputs": [],
   "source": [
    "cat = pd.read_csv('https://storage.googleapis.com/cmip6/cmip6-zarr-consolidated-stores.csv')\n",
    "#cat = pd.read_csv('ftp://ftp.cgd.ucar.edu/archive/aletheia-data/intake-esm-datastore/catalogs/glade-cmip6.csv')\n",
    "#cat.info()"
   ]
  },
  {
   "cell_type": "code",
   "execution_count": 5,
   "metadata": {
    "jupyter": {
     "source_hidden": true
    }
   },
   "outputs": [],
   "source": [
    "# define a simple search on keywords\n",
    "def search_df(df, verbose= False, **search):\n",
    "    \"search by keywords - if list, then match exactly, otherwise match as substring\"\n",
    "    keys = ['activity_id','institution_id','source_id','experiment_id','member_id', 'table_id', 'variable_id', 'grid_label']\n",
    "    d = df\n",
    "    for skey in search.keys():\n",
    "        \n",
    "        if isinstance(search[skey], str):  # match a string as a substring\n",
    "            d = d[d[skey].str.contains(search[skey])]\n",
    "        else:\n",
    "            dk = []\n",
    "            for key in search[skey]:       # match a list of strings exactly\n",
    "                dk += [d[d[skey]==key]]\n",
    "            d = pd.concat(dk)\n",
    "            keys.remove(skey)\n",
    "    if verbose:\n",
    "        for key in keys:\n",
    "            print(key,' = ',list(d[key].unique()))      \n",
    "    return d"
   ]
  },
  {
   "cell_type": "markdown",
   "metadata": {},
   "source": [
    "## Load CMIP6 datasets"
   ]
  },
  {
   "cell_type": "code",
   "execution_count": 33,
   "metadata": {},
   "outputs": [
    {
     "name": "stdout",
     "output_type": "stream",
     "text": [
      "activity_id  =  ['CMIP']\n",
      "institution_id  =  ['NCAR', 'NOAA-GFDL']\n",
      "member_id  =  ['r1i1p1f1']\n",
      "table_id  =  ['Omon']\n"
     ]
    }
   ],
   "source": [
    "picontrol = search_df(cat, experiment_id=['piControl'], \n",
    "                      source_id=['CESM2', 'GFDL-CM4'],\n",
    "                      table_id='Omon', \n",
    "                      variable_id=['thetao', 'so'], \n",
    "                      grid_label=['gr'], verbose=True)"
   ]
  },
  {
   "cell_type": "code",
   "execution_count": 35,
   "metadata": {},
   "outputs": [
    {
     "name": "stdout",
     "output_type": "stream",
     "text": [
      "activity_id  =  ['CMIP']\n",
      "institution_id  =  ['NCAR', 'NOAA-GFDL']\n",
      "member_id  =  ['r10i1p1f1', 'r11i1p1f1', 'r1i1p1f1', 'r2i1p1f1', 'r3i1p1f1', 'r4i1p1f1', 'r5i1p1f1', 'r6i1p1f1', 'r7i1p1f1', 'r8i1p1f1', 'r9i1p1f1']\n",
      "table_id  =  ['Omon']\n"
     ]
    }
   ],
   "source": [
    "historical = search_df(cat, experiment_id=['historical'], \n",
    "                       source_id=['CESM2', 'GFDL-CM4'],\n",
    "                       table_id='Omon', \n",
    "                       variable_id=['thetao', 'so'], \n",
    "                       grid_label=['gr'], verbose=True)"
   ]
  },
  {
   "cell_type": "code",
   "execution_count": 30,
   "metadata": {},
   "outputs": [
    {
     "name": "stdout",
     "output_type": "stream",
     "text": [
      "activity_id  =  ['ScenarioMIP']\n",
      "institution_id  =  ['NCAR', 'NOAA-GFDL']\n",
      "source_id  =  ['CESM2-WACCM', 'CESM2', 'GFDL-CM4']\n",
      "member_id  =  ['r1i1p1f1', 'r2i1p1f1']\n",
      "table_id  =  ['Omon']\n"
     ]
    }
   ],
   "source": [
    "ssp585 = search_df(cat, experiment_id=['ssp585'], table_id='Omon',\n",
    "                   variable_id=['thetao', 'so'], \n",
    "                   grid_label=['gr'], verbose=True)"
   ]
  },
  {
   "cell_type": "code",
   "execution_count": 39,
   "metadata": {},
   "outputs": [],
   "source": [
    "#ssp585 = search_df(cat, table_id='Omon', variable_id=['thetao', 'so'], \n",
    "#                   grid_label=['gn'], verbose=True)"
   ]
  },
  {
   "cell_type": "code",
   "execution_count": 9,
   "metadata": {},
   "outputs": [],
   "source": [
    "#zstores_hist = historical.zstore.unique()\n",
    "#\n",
    "#dset_dict_hist = {}\n",
    "#for zstore in zstores_hist:\n",
    "#    name = zstore.split('gs://cmip6/')[1].replace('/','.')[:-1]\n",
    "#    print(name)\n",
    "#\n",
    "#    ds = xr.open_zarr(fs.get_mapper(zstore))       # DO NOT USE \"decode_times = False\"\n",
    "#    print(dict(ds.dims),'\\n')\n",
    "#    \n",
    "#    dset_dict_hist[name] = ds"
   ]
  },
  {
   "cell_type": "code",
   "execution_count": 10,
   "metadata": {},
   "outputs": [
    {
     "name": "stdout",
     "output_type": "stream",
     "text": [
      "CMIP.NASA-GISS.GISS-E2-1-H.piControl.r1i1p1f1.Omon.thetao.gr\n",
      "{'bnds': 2, 'lat': 180, 'lev': 33, 'lon': 360, 'time': 4812} \n",
      "\n",
      "CMIP.NCAR.CESM2-WACCM.piControl.r1i1p1f1.Omon.thetao.gr\n",
      "{'d2': 2, 'lat': 180, 'lev': 33, 'lon': 360, 'time': 5988} \n",
      "\n",
      "CMIP.NCAR.CESM2.piControl.r1i1p1f1.Omon.thetao.gr\n",
      "{'d2': 2, 'lat': 180, 'lev': 33, 'lon': 360, 'time': 14400} \n",
      "\n",
      "CMIP.NOAA-GFDL.GFDL-CM4.piControl.r1i1p1f1.Omon.thetao.gr\n",
      "{'bnds': 2, 'lat': 180, 'lev': 35, 'lon': 360, 'time': 6000} \n",
      "\n",
      "CMIP.NOAA-GFDL.GFDL-ESM4.piControl.r1i1p1f1.Omon.thetao.gr\n",
      "{'bnds': 2, 'lat': 180, 'lev': 35, 'lon': 360, 'time': 6000} \n",
      "\n",
      "CMIP.NASA-GISS.GISS-E2-1-H.piControl.r1i1p1f1.Omon.so.gr\n",
      "{'bnds': 2, 'lat': 180, 'lev': 33, 'lon': 360, 'time': 4812} \n",
      "\n",
      "CMIP.NCAR.CESM2-WACCM.piControl.r1i1p1f1.Omon.so.gr\n",
      "{'d2': 2, 'lat': 180, 'lev': 33, 'lon': 360, 'time': 5988} \n",
      "\n",
      "CMIP.NCAR.CESM2.piControl.r1i1p1f1.Omon.so.gr\n",
      "{'d2': 2, 'lat': 180, 'lev': 33, 'lon': 360, 'time': 14400} \n",
      "\n",
      "CMIP.NOAA-GFDL.GFDL-CM4.piControl.r1i1p1f1.Omon.so.gr\n",
      "{'bnds': 2, 'lat': 180, 'lev': 35, 'lon': 360, 'time': 6000} \n",
      "\n",
      "CMIP.NOAA-GFDL.GFDL-ESM4.piControl.r1i1p1f1.Omon.so.gr\n",
      "{'bnds': 2, 'lat': 180, 'lev': 35, 'lon': 360, 'time': 6000} \n",
      "\n"
     ]
    }
   ],
   "source": [
    "zstores_control = picontrol.zstore.unique()\n",
    "\n",
    "dset_dict_control = {}\n",
    "for zstore in zstores_control:\n",
    "    name = zstore.split('gs://cmip6/')[1].replace('/','.')[:-1]\n",
    "    print(name)\n",
    "\n",
    "    ds = xr.open_zarr(fs.get_mapper(zstore))       # DO NOT USE \"decode_times = False\"\n",
    "    print(dict(ds.dims),'\\n')\n",
    "    \n",
    "    dset_dict_control[name] = ds"
   ]
  },
  {
   "cell_type": "markdown",
   "metadata": {},
   "source": [
    "## First test with xhistogram"
   ]
  },
  {
   "cell_type": "code",
   "execution_count": 11,
   "metadata": {},
   "outputs": [],
   "source": [
    "from xhistogram.xarray import histogram"
   ]
  },
  {
   "cell_type": "code",
   "execution_count": 12,
   "metadata": {},
   "outputs": [
    {
     "data": {
      "text/plain": [
       "<xarray.Dataset>\n",
       "Dimensions:    (bnds: 2, lat: 180, lev: 35, lon: 360, time: 6000)\n",
       "Coordinates:\n",
       "  * lat        (lat) float64 -89.5 -88.5 -87.5 -86.5 ... 86.5 87.5 88.5 89.5\n",
       "    lat_bnds   (lat, bnds) float64 dask.array<chunksize=(180, 2), meta=np.ndarray>\n",
       "  * lev        (lev) float64 2.5 10.0 20.0 32.5 ... 5e+03 5.5e+03 6e+03 6.5e+03\n",
       "    lev_bnds   (lev, bnds) float64 dask.array<chunksize=(35, 2), meta=np.ndarray>\n",
       "  * lon        (lon) float64 0.5 1.5 2.5 3.5 4.5 ... 356.5 357.5 358.5 359.5\n",
       "    lon_bnds   (lon, bnds) float64 dask.array<chunksize=(360, 2), meta=np.ndarray>\n",
       "  * time       (time) object 0151-01-16 12:00:00 ... 0650-12-16 12:00:00\n",
       "    time_bnds  (time, bnds) object dask.array<chunksize=(6000, 2), meta=np.ndarray>\n",
       "Dimensions without coordinates: bnds\n",
       "Data variables:\n",
       "    thetao     (time, lev, lat, lon) float32 dask.array<chunksize=(25, 35, 180, 360), meta=np.ndarray>\n",
       "Attributes:\n",
       "    Conventions:            CF-1.7 CMIP-6.0 UGRID-1.0\n",
       "    activity_id:            CMIP\n",
       "    branch_method:          standard\n",
       "    branch_time_in_child:   0.0\n",
       "    branch_time_in_parent:  54750.0\n",
       "    comment:                <null ref>\n",
       "    contact:                gfdl.climate.model.info@noaa.gov\n",
       "    creation_date:          2018-11-20T19:33:18Z\n",
       "    data_specs_version:     01.00.27\n",
       "    experiment:             pre-industrial control\n",
       "    experiment_id:          piControl\n",
       "    external_variables:     areacello volcello\n",
       "    forcing_index:          1\n",
       "    frequency:              mon\n",
       "    further_info_url:       https://furtherinfo.es-doc.org/CMIP6.NOAA-GFDL.GF...\n",
       "    grid:                   ocean data regridded from tripolar - nominal 0.25...\n",
       "    grid_label:             gr\n",
       "    history:                File was processed by fremetar (GFDL analog of CM...\n",
       "    initialization_index:   1\n",
       "    institution:            National Oceanic and Atmospheric Administration, ...\n",
       "    institution_id:         NOAA-GFDL\n",
       "    license:                CMIP6 model data produced by NOAA-GFDL is license...\n",
       "    mip_era:                CMIP6\n",
       "    nominal_resolution:     1x1 degree\n",
       "    parent_activity_id:     CMIP\n",
       "    parent_experiment_id:   piControl-spinup\n",
       "    parent_mip_era:         CMIP6\n",
       "    parent_source_id:       GFDL-CM4\n",
       "    parent_time_units:      days since 1700-1-1\n",
       "    parent_variant_label:   r1i1p1f1\n",
       "    physics_index:          1\n",
       "    product:                model-output\n",
       "    realization_index:      1\n",
       "    realm:                  ocean\n",
       "    references:             see further_info_url attribute\n",
       "    source:                 GFDL-CM4 (2018): \\naerosol: interactive\\natmos: G...\n",
       "    source_id:              GFDL-CM4\n",
       "    source_type:            AOGCM\n",
       "    sub_experiment:         none\n",
       "    sub_experiment_id:      none\n",
       "    table_id:               Omon\n",
       "    title:                  NOAA GFDL GFDL-CM4 model output prepared for CMIP...\n",
       "    tracking_id:            hdl:21.14100/49b8e7a6-2b1e-4b74-8ba5-b0902c90aafc...\n",
       "    variable_id:            thetao\n",
       "    variant_info:           N/A\n",
       "    variant_label:          r1i1p1f1"
      ]
     },
     "execution_count": 12,
     "metadata": {},
     "output_type": "execute_result"
    }
   ],
   "source": [
    "CM4_thetao_piC = dset_dict_control['CMIP.NOAA-GFDL.GFDL-CM4.piControl.r1i1p1f1.Omon.thetao.gr']\n",
    "CM4_thetao_piC"
   ]
  },
  {
   "cell_type": "code",
   "execution_count": 13,
   "metadata": {},
   "outputs": [
    {
     "data": {
      "text/plain": [
       "<xarray.Dataset>\n",
       "Dimensions:    (bnds: 2, lat: 180, lev: 35, lon: 360, time: 6000)\n",
       "Coordinates:\n",
       "  * lat        (lat) float64 -89.5 -88.5 -87.5 -86.5 ... 86.5 87.5 88.5 89.5\n",
       "    lat_bnds   (lat, bnds) float64 dask.array<chunksize=(180, 2), meta=np.ndarray>\n",
       "  * lev        (lev) float64 2.5 10.0 20.0 32.5 ... 5e+03 5.5e+03 6e+03 6.5e+03\n",
       "    lev_bnds   (lev, bnds) float64 dask.array<chunksize=(35, 2), meta=np.ndarray>\n",
       "  * lon        (lon) float64 0.5 1.5 2.5 3.5 4.5 ... 356.5 357.5 358.5 359.5\n",
       "    lon_bnds   (lon, bnds) float64 dask.array<chunksize=(360, 2), meta=np.ndarray>\n",
       "  * time       (time) object 0151-01-16 12:00:00 ... 0650-12-16 12:00:00\n",
       "    time_bnds  (time, bnds) object dask.array<chunksize=(6000, 2), meta=np.ndarray>\n",
       "Dimensions without coordinates: bnds\n",
       "Data variables:\n",
       "    so         (time, lev, lat, lon) float32 dask.array<chunksize=(35, 35, 180, 360), meta=np.ndarray>\n",
       "Attributes:\n",
       "    Conventions:            CF-1.7 CMIP-6.0 UGRID-1.0\n",
       "    activity_id:            CMIP\n",
       "    branch_method:          standard\n",
       "    branch_time_in_child:   0.0\n",
       "    branch_time_in_parent:  54750.0\n",
       "    comment:                <null ref>\n",
       "    contact:                gfdl.climate.model.info@noaa.gov\n",
       "    creation_date:          2018-11-20T19:29:02Z\n",
       "    data_specs_version:     01.00.27\n",
       "    experiment:             pre-industrial control\n",
       "    experiment_id:          piControl\n",
       "    external_variables:     areacello volcello\n",
       "    forcing_index:          1\n",
       "    frequency:              mon\n",
       "    further_info_url:       https://furtherinfo.es-doc.org/CMIP6.NOAA-GFDL.GF...\n",
       "    grid:                   ocean data regridded from tripolar - nominal 0.25...\n",
       "    grid_label:             gr\n",
       "    history:                File was processed by fremetar (GFDL analog of CM...\n",
       "    initialization_index:   1\n",
       "    institution:            National Oceanic and Atmospheric Administration, ...\n",
       "    institution_id:         NOAA-GFDL\n",
       "    license:                CMIP6 model data produced by NOAA-GFDL is license...\n",
       "    mip_era:                CMIP6\n",
       "    nominal_resolution:     1x1 degree\n",
       "    parent_activity_id:     CMIP\n",
       "    parent_experiment_id:   piControl-spinup\n",
       "    parent_mip_era:         CMIP6\n",
       "    parent_source_id:       GFDL-CM4\n",
       "    parent_time_units:      days since 1700-1-1\n",
       "    parent_variant_label:   r1i1p1f1\n",
       "    physics_index:          1\n",
       "    product:                model-output\n",
       "    realization_index:      1\n",
       "    realm:                  ocean\n",
       "    references:             see further_info_url attribute\n",
       "    source:                 GFDL-CM4 (2018): \\naerosol: interactive\\natmos: G...\n",
       "    source_id:              GFDL-CM4\n",
       "    source_type:            AOGCM\n",
       "    sub_experiment:         none\n",
       "    sub_experiment_id:      none\n",
       "    table_id:               Omon\n",
       "    title:                  NOAA GFDL GFDL-CM4 model output prepared for CMIP...\n",
       "    tracking_id:            hdl:21.14100/d85abc4a-49a2-4d13-9ebd-63cf01c6fae6...\n",
       "    variable_id:            so\n",
       "    variant_info:           N/A\n",
       "    variant_label:          r1i1p1f1"
      ]
     },
     "execution_count": 13,
     "metadata": {},
     "output_type": "execute_result"
    }
   ],
   "source": [
    "CM4_so_piC = dset_dict_control['CMIP.NOAA-GFDL.GFDL-CM4.piControl.r1i1p1f1.Omon.so.gr']\n",
    "CM4_so_piC"
   ]
  },
  {
   "cell_type": "code",
   "execution_count": 14,
   "metadata": {},
   "outputs": [],
   "source": [
    "CESM2_so_piC = dset_dict_control['CMIP.NCAR.CESM2.piControl.r1i1p1f1.Omon.so.gr']"
   ]
  },
  {
   "cell_type": "code",
   "execution_count": 15,
   "metadata": {},
   "outputs": [],
   "source": [
    "CESM2_thetao_piC = dset_dict_control['CMIP.NCAR.CESM2.piControl.r1i1p1f1.Omon.thetao.gr']"
   ]
  },
  {
   "cell_type": "code",
   "execution_count": 16,
   "metadata": {},
   "outputs": [],
   "source": [
    "#CESM2_thetao_piC = dset_dict_control['CMIP.NCAR.CESM2.piControl.r1i1p1f1.Omon.thetao.gr']"
   ]
  },
  {
   "cell_type": "code",
   "execution_count": 17,
   "metadata": {},
   "outputs": [],
   "source": [
    "sbins = np.arange(31, 38, 0.025)\n",
    "tbins = np.arange(-2, 32, 0.1)"
   ]
  },
  {
   "cell_type": "code",
   "execution_count": 23,
   "metadata": {},
   "outputs": [],
   "source": [
    "# Create a dz variable, all datasets are on common grid so this should work with everything\n",
    "dz = np.diff(CESM2_thetao_piC['lev'])\n",
    "dz =np.insert(dz, 0, dz[0])\n",
    "dz = xr.DataArray(dz, coords= {'lev': CESM2_thetao_piC['lev']}, dims='lev')\n",
    "\n",
    "# weight by volume of grid cell (resolution = 5degree, 1degree=110km)\n",
    "dVol = dz * (110e3) * (110e3*np.cos(CESM2_thetao_piC['lat']*np.pi/180))"
   ]
  },
  {
   "cell_type": "code",
   "execution_count": 24,
   "metadata": {},
   "outputs": [],
   "source": [
    "hTS_CESM2 = histogram(CESM2_so_piC['so'].isel(time=slice(0,12)),\n",
    "                      CESM2_thetao_piC['thetao'].isel(time=slice(0,12)),\n",
    "                      bins=[sbins, tbins],\n",
    "                      dim=('lon', 'lat', 'lev'),\n",
    "                      weights=dVol)"
   ]
  },
  {
   "cell_type": "code",
   "execution_count": 25,
   "metadata": {},
   "outputs": [
    {
     "data": {
      "text/plain": [
       "<xarray.DataArray 'histogram_so_thetao' (time: 12, so_bin: 279, thetao_bin: 339)>\n",
       "dask.array<getitem, shape=(12, 279, 339), dtype=float64, chunksize=(11, 279, 339), chunktype=numpy.ndarray>\n",
       "Coordinates:\n",
       "  * time        (time) object 0001-01-15 12:59:59 ... 0001-12-15 12:00:00\n",
       "  * so_bin      (so_bin) float64 31.01 31.04 31.06 31.09 ... 37.91 37.94 37.96\n",
       "  * thetao_bin  (thetao_bin) float64 -1.95 -1.85 -1.75 ... 31.65 31.75 31.85"
      ]
     },
     "execution_count": 25,
     "metadata": {},
     "output_type": "execute_result"
    }
   ],
   "source": [
    "hTS_CESM2"
   ]
  },
  {
   "cell_type": "code",
   "execution_count": 26,
   "metadata": {},
   "outputs": [],
   "source": [
    "vol_nadw = hTS_CESM2.sel(so_bin=slice(34.8, 35.), \n",
    "                         thetao_bin=slice(1.5,4)).sum(dim=['so_bin', 'thetao_bin'])"
   ]
  },
  {
   "cell_type": "code",
   "execution_count": 27,
   "metadata": {},
   "outputs": [
    {
     "data": {
      "text/plain": [
       "[<matplotlib.lines.Line2D at 0x7f8c586f0390>]"
      ]
     },
     "execution_count": 27,
     "metadata": {},
     "output_type": "execute_result"
    },
    {
     "data": {
      "image/png": "[encoded data removed]",
      "text/plain": [
       "<Figure size 432x288 with 1 Axes>"
      ]
     },
     "metadata": {
      "needs_background": "light"
     },
     "output_type": "display_data"
    }
   ],
   "source": [
    "vol_nadw.plot()"
   ]
  },
  {
   "cell_type": "code",
   "execution_count": null,
   "metadata": {},
   "outputs": [],
   "source": [
    "hTS_CM4 = histogram(CM4_thetao_piC['thetao'],\n",
    "                      CM4_so_piC['so'],\n",
    "                      bins=[sbins, tbins])"
   ]
  },
  {
   "cell_type": "code",
   "execution_count": null,
   "metadata": {},
   "outputs": [],
   "source": [
    "CESM2_so_piC.chunk({'time': 25})"
   ]
  }
 ],
 "metadata": {
  "kernelspec": {
   "display_name": "Python 3",
   "language": "python",
   "name": "python3"
  },
  "language_info": {
   "codemirror_mode": {
    "name": "ipython",
    "version": 3
   },
   "file_extension": ".py",
   "mimetype": "text/x-python",
   "name": "python",
   "nbconvert_exporter": "python",
   "pygments_lexer": "ipython3",
   "version": "3.7.3"
  }
 },
 "nbformat": 4,
 "nbformat_minor": 4
}
